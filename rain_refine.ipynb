{
 "cells": [
  {
   "cell_type": "code",
   "execution_count": 1,
   "metadata": {},
   "outputs": [],
   "source": [
    "import numpy as np\n",
    "import pandas as pd\n",
    "import matplotlib.pyplot as plt\n",
    "import seaborn as sns\n",
    "from matplotlib import rc,  font_manager\n",
    "import matplotlib\n",
    "fontname = \"C:/Windows/Fonts/malgun.ttf\"\n",
    "font_name = font_manager.FontProperties(fname=fontname).get_name()\n",
    "rc('font', family=font_name)"
   ]
  },
  {
   "cell_type": "code",
   "execution_count": 2,
   "metadata": {},
   "outputs": [],
   "source": [
    "get_rain = pd.read_excel('data/ORG/날씨/월별강수량.xlsx', index_col=None)"
   ]
  },
  {
   "cell_type": "code",
   "execution_count": 5,
   "metadata": {},
   "outputs": [
    {
     "data": {
      "text/html": [
       "<div>\n",
       "<style scoped>\n",
       "    .dataframe tbody tr th:only-of-type {\n",
       "        vertical-align: middle;\n",
       "    }\n",
       "\n",
       "    .dataframe tbody tr th {\n",
       "        vertical-align: top;\n",
       "    }\n",
       "\n",
       "    .dataframe thead th {\n",
       "        text-align: right;\n",
       "    }\n",
       "</style>\n",
       "<table border=\"1\" class=\"dataframe\">\n",
       "  <thead>\n",
       "    <tr style=\"text-align: right;\">\n",
       "      <th></th>\n",
       "      <th>년월</th>\n",
       "      <th>지점</th>\n",
       "      <th>강수량(mm)</th>\n",
       "      <th>지점.1</th>\n",
       "      <th>강수량(mm).1</th>\n",
       "      <th>지점.2</th>\n",
       "      <th>강수량(mm).2</th>\n",
       "      <th>지점.3</th>\n",
       "      <th>강수량(mm).3</th>\n",
       "      <th>지점.4</th>\n",
       "      <th>강수량(mm).4</th>\n",
       "    </tr>\n",
       "  </thead>\n",
       "  <tbody>\n",
       "    <tr>\n",
       "      <th>0</th>\n",
       "      <td>2020-01</td>\n",
       "      <td>서울</td>\n",
       "      <td>60.5</td>\n",
       "      <td>부산</td>\n",
       "      <td>127.7</td>\n",
       "      <td>대구</td>\n",
       "      <td>70.4</td>\n",
       "      <td>대전</td>\n",
       "      <td>78.5</td>\n",
       "      <td>광주</td>\n",
       "      <td>74.9</td>\n",
       "    </tr>\n",
       "  </tbody>\n",
       "</table>\n",
       "</div>"
      ],
      "text/plain": [
       "        년월  지점  강수량(mm) 지점.1  강수량(mm).1 지점.2  강수량(mm).2 지점.3  강수량(mm).3 지점.4  \\\n",
       "0  2020-01  서울     60.5   부산      127.7   대구       70.4   대전       78.5   광주   \n",
       "\n",
       "   강수량(mm).4  \n",
       "0       74.9  "
      ]
     },
     "execution_count": 5,
     "metadata": {},
     "output_type": "execute_result"
    }
   ],
   "source": [
    "get_rain[:1]"
   ]
  },
  {
   "cell_type": "code",
   "execution_count": 3,
   "metadata": {},
   "outputs": [
    {
     "data": {
      "text/plain": [
       "array([['2020-01', 74.9],\n",
       "       ['2020-02', 47.8],\n",
       "       ['2020-03', 43.5],\n",
       "       ['2020-04', 55.3],\n",
       "       ['2020-05', 96.8],\n",
       "       ['2020-06', 199.9],\n",
       "       ['2020-07', 533.3],\n",
       "       ['2020-08', 738.1],\n",
       "       ['2020-09', 178.3],\n",
       "       ['2020-10', 12.1],\n",
       "       ['2020-11', 28.3],\n",
       "       ['2020-12', 18.7],\n",
       "       ['2021-01', 33.0],\n",
       "       ['2021-02', 31.1],\n",
       "       ['2021-03', 122.4],\n",
       "       ['2021-04', 34.2],\n",
       "       ['2021-05', 139.4],\n",
       "       ['2021-06', 118.1],\n",
       "       ['2021-07', 227.6],\n",
       "       ['2021-08', 338.7],\n",
       "       ['2021-09', 131.1],\n",
       "       ['2021-10', 35.3],\n",
       "       ['2021-11', 85.8],\n",
       "       ['2021-12', 7.1],\n",
       "       ['2022-01', 0.3],\n",
       "       ['2022-02', 2.7],\n",
       "       ['2022-03', 105.2],\n",
       "       ['2022-04', 49.4],\n",
       "       ['2022-05', 0.4],\n",
       "       ['2022-06', 131.7],\n",
       "       ['2022-07', 169.0],\n",
       "       ['2022-08', 106.4],\n",
       "       ['2022-09', 89.2],\n",
       "       ['2022-10', 38.3],\n",
       "       ['2022-11', 46.7],\n",
       "       ['2022-12', 30.6],\n",
       "       ['2023-01', 26.8],\n",
       "       ['2023-02', 14.8],\n",
       "       ['2023-03', 34.8],\n",
       "       ['2023-04', 66.5],\n",
       "       ['2023-05', 190.1],\n",
       "       ['2023-06', 441.2],\n",
       "       ['2023-07', 684.6]], dtype=object)"
      ]
     },
     "execution_count": 3,
     "metadata": {},
     "output_type": "execute_result"
    }
   ],
   "source": [
    "seoul_weather = get_rain.loc[get_rain['지점'] == '서울', ['년월', '강수량(mm)']].values\n",
    "seoul_weather\n",
    "\n",
    "busan_weather = get_rain.loc[get_rain['지점.1'] == '부산', ['년월', '강수량(mm).1']].values\n",
    "busan_weather\n",
    "\n",
    "daegu_weather = get_rain.loc[get_rain['지점.2'] == '대구', ['년월', '강수량(mm).2']].values\n",
    "daegu_weather\n",
    "\n",
    "daejeon_weather = get_rain.loc[get_rain['지점.3'] == '대전', ['년월', '강수량(mm).3']].values\n",
    "daejeon_weather\n",
    "\n",
    "gwangju_weather = get_rain.loc[get_rain['지점.4'] == '광주', ['년월', '강수량(mm).4']].values\n",
    "gwangju_weather"
   ]
  },
  {
   "cell_type": "code",
   "execution_count": 8,
   "metadata": {},
   "outputs": [],
   "source": [
    "seoul_df = pd.DataFrame(seoul_weather, columns=['년월', '서울강수량(mm)'])\n",
    "busan_df = pd.DataFrame(busan_weather, columns=['년월', '부산강수량(mm)'])\n",
    "daegu_df = pd.DataFrame(daegu_weather, columns=['년월', '대구강수량(mm)'])\n",
    "daejeon_df = pd.DataFrame(daejeon_weather, columns=['년월', '대전강수량(mm)'])\n",
    "gwangju_df = pd.DataFrame(gwangju_weather, columns=['년월', '광주강수량(mm)'])"
   ]
  },
  {
   "cell_type": "code",
   "execution_count": 9,
   "metadata": {},
   "outputs": [],
   "source": [
    "all_weather = pd.concat([seoul_df, busan_df, daegu_df, daejeon_df, gwangju_df])"
   ]
  },
  {
   "cell_type": "code",
   "execution_count": 10,
   "metadata": {},
   "outputs": [],
   "source": [
    "all_weather.to_csv('data/TEMP/날씨/강수량 데이터.csv', index=False, encoding='UTF-8')"
   ]
  }
 ],
 "metadata": {
  "kernelspec": {
   "display_name": "base",
   "language": "python",
   "name": "python3"
  },
  "language_info": {
   "codemirror_mode": {
    "name": "ipython",
    "version": 3
   },
   "file_extension": ".py",
   "mimetype": "text/x-python",
   "name": "python",
   "nbconvert_exporter": "python",
   "pygments_lexer": "ipython3",
   "version": "3.10.9"
  },
  "orig_nbformat": 4
 },
 "nbformat": 4,
 "nbformat_minor": 2
}
