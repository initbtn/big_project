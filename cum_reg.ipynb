{
 "cells": [
  {
   "cell_type": "code",
   "execution_count": 10,
   "metadata": {},
   "outputs": [],
   "source": [
    "import numpy as np\n",
    "import pandas as pd\n",
    "import matplotlib.pyplot as plt\n",
    "import seaborn as sns\n",
    "from matplotlib import rc,  font_manager\n",
    "import matplotlib\n",
    "import torch\n",
    "import torch.nn as nn\n",
    "import torch.nn.functional as F\n",
    "import torch.optim as optim\n",
    "fontname = \"C:/Windows/Fonts/malgun.ttf\"\n",
    "font_name = font_manager.FontProperties(fname=fontname).get_name()\n",
    "rc('font', family=font_name)"
   ]
  },
  {
   "cell_type": "code",
   "execution_count": 11,
   "metadata": {},
   "outputs": [],
   "source": [
    "get_data = pd.read_excel('data/ORG/경락가격/오이/오이 월별 총거래물량(원본).xlsx', index_col=None)"
   ]
  },
  {
   "cell_type": "code",
   "execution_count": 12,
   "metadata": {},
   "outputs": [],
   "source": [
    "get_data = get_data.sort_index(ascending=False)"
   ]
  },
  {
   "cell_type": "code",
   "execution_count": 13,
   "metadata": {},
   "outputs": [],
   "source": [
    "seoul_data = get_data[get_data['시장명'].str.contains('서울')]\n",
    "busan_data = get_data[get_data['시장명'].str.contains('부산')]\n",
    "daegu_data = get_data[get_data['시장명'].str.contains('대구')]\n",
    "daejeon_data = get_data[get_data['시장명'].str.contains('대전')]\n",
    "gwangju_data = get_data[get_data['시장명'].str.contains('광주')]"
   ]
  },
  {
   "cell_type": "code",
   "execution_count": 14,
   "metadata": {},
   "outputs": [
    {
     "name": "stdout",
     "output_type": "stream",
     "text": [
      "['2020-01' '2020-02' '2020-03' '2020-04' '2020-05' '2020-06' '2020-07'\n",
      " '2020-08' '2020-09' '2020-10' '2020-11' '2020-12' '2021-02' '2021-03'\n",
      " '2021-04' '2021-05' '2021-06' '2021-07' '2021-08' '2021-09' '2021-10'\n",
      " '2021-11' '2021-12' '2022-01' '2022-02' '2022-03' '2022-04' '2022-05'\n",
      " '2022-06' '2022-07' '2022-08' '2022-09' '2022-10' '2022-11' '2023-01'\n",
      " '2023-02' '2023-03' '2023-04' '2023-05' '2023-06' '2023-07' '2023-08']\n",
      "['2020-01' '2020-02' '2020-03' '2020-04' '2020-05' '2020-06' '2020-07'\n",
      " '2020-08' '2020-09' '2020-10' '2020-11' '2020-12' '2021-01' '2021-02'\n",
      " '2021-03' '2021-04' '2021-05' '2021-06' '2021-07' '2021-08' '2021-09'\n",
      " '2021-10' '2021-11' '2021-12' '2022-01' '2022-02' '2022-03' '2022-04'\n",
      " '2022-05' '2022-06' '2022-07' '2022-08' '2022-09' '2022-10' '2022-11'\n",
      " '2022-12' '2023-01' '2023-02' '2023-03' '2023-04' '2023-05' '2023-06'\n",
      " '2023-07' '2023-08']\n",
      "['2020-01' '2020-02' '2020-03' '2020-04' '2020-05' '2020-06' '2020-07'\n",
      " '2020-08' '2020-09' '2020-10' '2020-11' '2020-12' '2021-01' '2021-02'\n",
      " '2021-03' '2021-04' '2021-05' '2021-06' '2021-07' '2021-08' '2021-09'\n",
      " '2021-10' '2021-11' '2021-12' '2022-01' '2022-02' '2022-03' '2022-04'\n",
      " '2022-05' '2022-06' '2022-07' '2022-08' '2022-09' '2022-10' '2022-11'\n",
      " '2022-12' '2023-01' '2023-02' '2023-03' '2023-04' '2023-05' '2023-06'\n",
      " '2023-07' '2023-08']\n",
      "['2020-03' '2020-04' '2020-05' '2020-06' '2020-07' '2020-08' '2020-09'\n",
      " '2020-10' '2020-11' '2020-12' '2021-01' '2021-02' '2021-03' '2021-04'\n",
      " '2021-05' '2021-06' '2021-07' '2021-08' '2021-09' '2021-10' '2021-11'\n",
      " '2022-01' '2022-02' '2022-03' '2022-04' '2022-05' '2022-06' '2022-07'\n",
      " '2022-08' '2022-09' '2022-10' '2022-11' '2022-12' '2023-02' '2023-03'\n",
      " '2023-04' '2023-05' '2023-06' '2023-07' '2023-08']\n",
      "['2020-01' '2020-02' '2020-03' '2020-04' '2020-05' '2020-06' '2020-07'\n",
      " '2020-08' '2020-09' '2020-10' '2020-11' '2020-12' '2021-01' '2021-02'\n",
      " '2021-03' '2021-04' '2021-05' '2021-06' '2021-07' '2021-08' '2021-09'\n",
      " '2021-10' '2021-11' '2021-12' '2022-01' '2022-02' '2022-03' '2022-04'\n",
      " '2022-05' '2022-06' '2022-07' '2022-08' '2022-09' '2022-10' '2022-11'\n",
      " '2022-12' '2023-02' '2023-03' '2023-04' '2023-05' '2023-06' '2023-07'\n",
      " '2023-08']\n"
     ]
    }
   ],
   "source": [
    "seoul_date = seoul_data['DATE'].unique()\n",
    "print(seoul_date)\n",
    "busan_date = busan_data['DATE'].unique()\n",
    "print(busan_date)\n",
    "daegu_date = daegu_data['DATE'].unique()\n",
    "print(daegu_date)\n",
    "daejeon_date = daejeon_data['DATE'].unique()\n",
    "print(daejeon_date)\n",
    "gwangju_date = gwangju_data['DATE'].unique()\n",
    "print(gwangju_date)"
   ]
  },
  {
   "cell_type": "code",
   "execution_count": 15,
   "metadata": {},
   "outputs": [],
   "source": [
    "all_list = []\n",
    "for i in seoul_date:\n",
    "    seoul_sum1 = seoul_data.loc[seoul_data['DATE']==i, '총거래물량(kg)'].values\n",
    "    seoul_sum2 = seoul_data.loc[seoul_data['DATE']==i, '총거래금액(원)'].values\n",
    "    all_list.append([i, seoul_sum1.sum(), seoul_sum2.sum(), '서울'])\n",
    "\n",
    "for i in busan_date:\n",
    "    busan_sum1 = busan_data.loc[busan_data['DATE']==i, '총거래물량(kg)'].values\n",
    "    busan_sum2 = busan_data.loc[busan_data['DATE']==i, '총거래금액(원)'].values\n",
    "    all_list.append([i, busan_sum1.sum(), busan_sum2.sum(), '부산'])\n",
    "\n",
    "for i in daegu_date:\n",
    "    daegu_sum1 = daegu_data.loc[daegu_data['DATE']==i, '총거래물량(kg)'].values\n",
    "    daegu_sum2 = daegu_data.loc[daegu_data['DATE']==i, '총거래금액(원)'].values\n",
    "    all_list.append([i, daegu_sum1.sum(), daegu_sum2.sum(), '대구'])\n",
    "\n",
    "for i in daejeon_date:\n",
    "    daejeon_sum1 = daejeon_data.loc[daejeon_data['DATE']==i, '총거래물량(kg)'].values\n",
    "    daejeon_sum2 = daejeon_data.loc[daejeon_data['DATE']==i, '총거래금액(원)'].values\n",
    "    all_list.append([i, daejeon_sum1.sum(), daejeon_sum2.sum(), '대전'])\n",
    "\n",
    "for i in gwangju_date:\n",
    "    gwangju_sum1 = gwangju_data.loc[gwangju_data['DATE']==i, '총거래물량(kg)'].values\n",
    "    gwangju_sum2 = gwangju_data.loc[gwangju_data['DATE']==i, '총거래금액(원)'].values\n",
    "    all_list.append([i, gwangju_sum1.sum(), gwangju_sum2.sum(), '광주'])"
   ]
  },
  {
   "cell_type": "code",
   "execution_count": 16,
   "metadata": {},
   "outputs": [],
   "source": [
    "df = pd.DataFrame(all_list, columns=['Date', '총거래물량', '총거래금액', '시장'])"
   ]
  },
  {
   "cell_type": "code",
   "execution_count": 17,
   "metadata": {},
   "outputs": [],
   "source": [
    "df['평균거래금액'] = df['총거래금액']/df['총거래물량']"
   ]
  },
  {
   "cell_type": "code",
   "execution_count": 18,
   "metadata": {},
   "outputs": [],
   "source": [
    "df = df[['Date', '총거래물량', '총거래금액', '평균거래금액', '시장']]"
   ]
  },
  {
   "cell_type": "code",
   "execution_count": 19,
   "metadata": {},
   "outputs": [],
   "source": [
    "df.to_csv('data/TEMP/경락가격/오이/오이 월별 총거래(정제).csv', index=False, encoding='UTF-8')"
   ]
  }
 ],
 "metadata": {
  "kernelspec": {
   "display_name": "base",
   "language": "python",
   "name": "python3"
  },
  "language_info": {
   "codemirror_mode": {
    "name": "ipython",
    "version": 3
   },
   "file_extension": ".py",
   "mimetype": "text/x-python",
   "name": "python",
   "nbconvert_exporter": "python",
   "pygments_lexer": "ipython3",
   "version": "3.10.9"
  },
  "orig_nbformat": 4
 },
 "nbformat": 4,
 "nbformat_minor": 2
}
