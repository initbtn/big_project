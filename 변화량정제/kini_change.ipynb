{
 "cells": [
  {
   "cell_type": "code",
   "execution_count": 9,
   "metadata": {},
   "outputs": [],
   "source": [
    "import numpy as np\n",
    "import pandas as pd\n",
    "import matplotlib.pyplot as plt\n",
    "import seaborn as sns\n",
    "from matplotlib import rc,  font_manager\n",
    "import matplotlib\n",
    "import torch\n",
    "import torch.nn as nn\n",
    "import torch.nn.functional as F\n",
    "import torch.optim as optim\n",
    "import statistics\n",
    "matplotlib.rcParams['axes.unicode_minus'] = False\n",
    "fontname = \"C:/Windows/Fonts/malgun.ttf\"\n",
    "font_name = font_manager.FontProperties(fname=fontname).get_name()\n",
    "rc('font', family=font_name)"
   ]
  },
  {
   "cell_type": "code",
   "execution_count": 80,
   "metadata": {},
   "outputs": [],
   "source": [
    "get_data = pd.read_csv('../data/TEMP/경락가격/애호박/애호박 월별 총거래(정제).csv', index_col=None)"
   ]
  },
  {
   "cell_type": "code",
   "execution_count": 11,
   "metadata": {},
   "outputs": [
    {
     "data": {
      "text/plain": [
       "44"
      ]
     },
     "execution_count": 11,
     "metadata": {},
     "output_type": "execute_result"
    }
   ],
   "source": [
    "len(get_data['Date'])"
   ]
  },
  {
   "cell_type": "code",
   "execution_count": 81,
   "metadata": {},
   "outputs": [],
   "source": [
    "get_data['Date'] = pd.to_datetime(get_data['Date'])"
   ]
  },
  {
   "cell_type": "code",
   "execution_count": 82,
   "metadata": {},
   "outputs": [],
   "source": [
    "years = get_data['Date'].dt.year.unique()"
   ]
  },
  {
   "cell_type": "code",
   "execution_count": null,
   "metadata": {},
   "outputs": [],
   "source": [
    "get_data.head()"
   ]
  },
  {
   "cell_type": "code",
   "execution_count": 4,
   "metadata": {},
   "outputs": [],
   "source": [
    "amount_grade = []\n",
    "Glen = len(get_data['Date'])\n",
    "amount_grade.append(['2020-01', 0, 0, 0, 0, 0, 0, 0, 0, 0, 0, 0, 0, 0, 0, 0])\n",
    "for i in range(Glen):\n",
    "    if i != Glen-1:\n",
    "        A = get_data['서울 총거래물량'][i+1] - get_data['서울 총거래물량'][i]\n",
    "        B = get_data['서울 총거래금액'][i+1] - get_data['서울 총거래금액'][i]\n",
    "        C = get_data['서울 평균거래금액'][i+1] - get_data['서울 평균거래금액'][i]\n",
    "\n",
    "        D = get_data['부산 총거래물량'][i+1] - get_data['부산 총거래물량'][i]\n",
    "        E = get_data['부산 총거래금액'][i+1] - get_data['부산 총거래금액'][i]\n",
    "        F = get_data['부산 평균거래금액'][i+1] - get_data['부산 평균거래금액'][i]\n",
    "\n",
    "        G = get_data['대구 총거래물량'][i+1] - get_data['대구 총거래물량'][i]\n",
    "        H = get_data['대구 총거래금액'][i+1] - get_data['대구 총거래금액'][i]\n",
    "        I = get_data['대구 평균거래금액'][i+1] - get_data['대구 평균거래금액'][i]\n",
    "\n",
    "        J = get_data['대전 총거래물량'][i+1] - get_data['대전 총거래물량'][i]\n",
    "        K = get_data['대전 총거래금액'][i+1] - get_data['대전 총거래금액'][i]\n",
    "        L = get_data['대전 평균거래금액'][i+1] - get_data['대전 평균거래금액'][i]\n",
    "\n",
    "        M = get_data['광주 총거래물량'][i+1] - get_data['광주 총거래물량'][i]\n",
    "        N = get_data['광주 총거래금액'][i+1] - get_data['광주 총거래금액'][i]\n",
    "        O = get_data['광주 평균거래금액'][i+1] - get_data['광주 평균거래금액'][i]\n",
    "\n",
    "        amount_grade.append([get_data['Date'][i+1], A, B, C, D, E, F, G, H, I, J, K, L, M, N, O])"
   ]
  },
  {
   "cell_type": "code",
   "execution_count": 5,
   "metadata": {},
   "outputs": [],
   "source": [
    "amount_grade.append(['2023-09', 0, 0, 0, 0, 0, 0, 0, 0, 0, 0, 0, 0, 0, 0, 0])\n",
    "amount_grade.append(['2023-10', 0, 0, 0, 0, 0, 0, 0, 0, 0, 0, 0, 0, 0, 0, 0])\n",
    "amount_grade.append(['2023-11', 0, 0, 0, 0, 0, 0, 0, 0, 0, 0, 0, 0, 0, 0, 0])\n",
    "amount_grade.append(['2023-12', 0, 0, 0, 0, 0, 0, 0, 0, 0, 0, 0, 0, 0, 0, 0])"
   ]
  },
  {
   "cell_type": "code",
   "execution_count": 6,
   "metadata": {},
   "outputs": [],
   "source": [
    "df = pd.DataFrame(amount_grade, columns=['Month', 'Seoul_amount_grade', 'Seoul_allpay_grade', 'Seoul_pay_grade', 'Busan_amount_grade', 'Busan_allpay_grade', 'Busan_pay_grade', 'Daegu_amount_grade', 'Daegu_allpay_grade', 'Daegu_pay_grade', 'Daejeon_amount_grade', 'Daejeon_allpay_grade', 'Daejeon_pay_grade', 'Gwangju_amount_grade', 'Gwangju_allpay_grade', 'Gwangju_pay_grade'])"
   ]
  },
  {
   "cell_type": "code",
   "execution_count": null,
   "metadata": {},
   "outputs": [],
   "source": [
    "df.to_csv('../data/TEMP/경락가격/애호박/애호박 월별 거래 변화량.csv', index=False, encoding='UTF-8')"
   ]
  },
  {
   "cell_type": "code",
   "execution_count": 7,
   "metadata": {},
   "outputs": [],
   "source": [
    "change_data = pd.read_csv('../data/TEMP/경락가격/애호박/애호박 월별 거래 변화량.csv', index_col=None)"
   ]
  },
  {
   "cell_type": "code",
   "execution_count": 8,
   "metadata": {},
   "outputs": [],
   "source": [
    "change_data['Month'] = pd.to_datetime(change_data['Month'])"
   ]
  },
  {
   "cell_type": "code",
   "execution_count": 9,
   "metadata": {},
   "outputs": [],
   "source": [
    "change_data2020 = change_data[change_data['Month'].dt.year == 2020]\n",
    "change_data2021 = change_data[change_data['Month'].dt.year == 2021]\n",
    "change_data2022 = change_data[change_data['Month'].dt.year == 2022]\n",
    "change_data2023 = change_data[change_data['Month'].dt.year == 2023]"
   ]
  },
  {
   "cell_type": "code",
   "execution_count": 11,
   "metadata": {},
   "outputs": [],
   "source": [
    "months = change_data['Month'].dt.month.unique()\n",
    "months.sort()\n",
    "\n"
   ]
  },
  {
   "cell_type": "code",
   "execution_count": null,
   "metadata": {},
   "outputs": [],
   "source": [
    "def pltdata(month, area2021, area2022, area2023, area, title):\n",
    "    plt.figure(figsize=(10,10))\n",
    "\n",
    "    plt.subplot(2,2,1)\n",
    "    plt.barh(month, area2021, color='Black')\n",
    "    plt.ylabel('월')\n",
    "    plt.yticks(month, [f'{i}월' for i in month])\n",
    "    plt.xlabel('%s 차이' %title)\n",
    "    plt.title('2021년 대비 2020년 %s %s 변화량' % (area, title))\n",
    "\n",
    "    plt.subplot(2,2,2)\n",
    "    plt.barh(month, area2022, color='r')\n",
    "    plt.ylabel('월')\n",
    "    plt.yticks(month, [f'{i}월' for i in month])\n",
    "    plt.xlabel('%s 차이' %title)\n",
    "    plt.title('2022년 대비 2021년 %s %s 변화량' %(area, title))\n",
    "\n",
    "    plt.subplot(2,2,3)\n",
    "    plt.barh(month, area2023, color='g')\n",
    "    plt.ylabel('월')\n",
    "    plt.yticks(month, [f'{i}월' for i in month])\n",
    "    plt.xlabel('%s 차이' %title)\n",
    "    plt.title('2023년 대비 2022년 %s %s 변화량' %(area, title))\n",
    "\n",
    "    plt.savefig('../data/각 년도 별 %s의 %s 변화량 차이.png' %(area, title))\n",
    "    plt.show()"
   ]
  },
  {
   "cell_type": "markdown",
   "metadata": {},
   "source": [
    "# 서울"
   ]
  },
  {
   "cell_type": "code",
   "execution_count": null,
   "metadata": {},
   "outputs": [],
   "source": [
    "mdata2020 = change_data2020['Seoul_amount_grade'].values\n",
    "mdata2021 = change_data2021['Seoul_amount_grade'].values\n",
    "mdata2022 = change_data2022['Seoul_amount_grade'].values\n",
    "mdata2023 = change_data2023['Seoul_amount_grade'].values\n",
    "\n",
    "adata2020 = change_data2020['Seoul_allpay_grade'].values\n",
    "adata2021 = change_data2021['Seoul_allpay_grade'].values\n",
    "adata2022 = change_data2022['Seoul_allpay_grade'].values\n",
    "adata2023 = change_data2023['Seoul_allpay_grade'].values\n",
    "\n",
    "data2020 = change_data2020['Seoul_pay_grade'].values\n",
    "data2021 = change_data2021['Seoul_pay_grade'].values\n",
    "data2022 = change_data2022['Seoul_pay_grade'].values\n",
    "data2023 = change_data2023['Seoul_pay_grade'].values\n",
    "\n",
    "mdata2021_2020 = abs(mdata2021)-abs(mdata2020)\n",
    "mdata2022_2021 = abs(mdata2022)-abs(mdata2021)\n",
    "mdata2023_2022 = abs(mdata2023)-abs(mdata2022)\n",
    "\n",
    "adata2021_2020 = abs(adata2021)-abs(adata2020)\n",
    "adata2022_2021 = abs(adata2022)-abs(adata2021)\n",
    "adata2023_2022 = abs(adata2023)-abs(adata2022)\n",
    "\n",
    "\n",
    "data2021_2020 = abs(data2021)-abs(data2020)\n",
    "data2022_2021 = abs(data2022)-abs(data2021)\n",
    "data2023_2022 = abs(data2023)-abs(data2022)"
   ]
  },
  {
   "cell_type": "code",
   "execution_count": null,
   "metadata": {},
   "outputs": [],
   "source": [
    "pltdata(months, mdata2021_2020, mdata2022_2021, mdata2023_2022, \"서울\", \"총 거래 물량\")"
   ]
  },
  {
   "cell_type": "code",
   "execution_count": null,
   "metadata": {},
   "outputs": [],
   "source": [
    "pltdata(months, adata2021_2020, adata2022_2021, adata2023_2022, \"서울\", \"총 거래 금액\")"
   ]
  },
  {
   "cell_type": "code",
   "execution_count": null,
   "metadata": {},
   "outputs": [],
   "source": [
    "pltdata(months, data2021_2020, data2022_2021, data2023_2022, \"서울\", \"평균 거래 금액\")"
   ]
  },
  {
   "cell_type": "markdown",
   "metadata": {},
   "source": [
    "# 부산"
   ]
  },
  {
   "cell_type": "code",
   "execution_count": null,
   "metadata": {},
   "outputs": [],
   "source": [
    "mdata2020 = change_data2020['Busan_amount_grade'].values\n",
    "mdata2021 = change_data2021['Busan_amount_grade'].values\n",
    "mdata2022 = change_data2022['Busan_amount_grade'].values\n",
    "mdata2023 = change_data2023['Busan_amount_grade'].values\n",
    "\n",
    "adata2020 = change_data2020['Busan_allpay_grade'].values\n",
    "adata2021 = change_data2021['Busan_allpay_grade'].values\n",
    "adata2022 = change_data2022['Busan_allpay_grade'].values\n",
    "adata2023 = change_data2023['Busan_allpay_grade'].values\n",
    "\n",
    "data2020 = change_data2020['Busan_pay_grade'].values\n",
    "data2021 = change_data2021['Busan_pay_grade'].values\n",
    "data2022 = change_data2022['Busan_pay_grade'].values\n",
    "data2023 = change_data2023['Busan_pay_grade'].values\n",
    "\n",
    "mdata2021_2020 = abs(mdata2021)-abs(mdata2020)\n",
    "mdata2022_2021 = abs(mdata2022)-abs(mdata2021)\n",
    "mdata2023_2022 = abs(mdata2023)-abs(mdata2022)\n",
    "\n",
    "adata2021_2020 = abs(adata2021)-abs(adata2020)\n",
    "adata2022_2021 = abs(adata2022)-abs(adata2021)\n",
    "adata2023_2022 = abs(adata2023)-abs(adata2022)\n",
    "\n",
    "data2021_2020 = abs(data2021)-abs(data2020)\n",
    "data2022_2021 = abs(data2022)-abs(data2021)\n",
    "data2023_2022 = abs(data2023)-abs(data2022)"
   ]
  },
  {
   "cell_type": "code",
   "execution_count": null,
   "metadata": {},
   "outputs": [],
   "source": [
    "pltdata(months, mdata2021_2020, mdata2022_2021, mdata2023_2022, \"부산\", \"총 거래 물량\")"
   ]
  },
  {
   "cell_type": "code",
   "execution_count": null,
   "metadata": {},
   "outputs": [],
   "source": [
    "pltdata(months, adata2021_2020, adata2022_2021, adata2023_2022, \"부산\", \"총 거래 금액\")"
   ]
  },
  {
   "cell_type": "code",
   "execution_count": null,
   "metadata": {},
   "outputs": [],
   "source": [
    "pltdata(months, data2021_2020, data2022_2021, data2023_2022, \"부산\", \"평균 거래 금액\")"
   ]
  },
  {
   "cell_type": "markdown",
   "metadata": {},
   "source": [
    "# 대구"
   ]
  },
  {
   "cell_type": "code",
   "execution_count": null,
   "metadata": {},
   "outputs": [],
   "source": [
    "mdata2020 = change_data2020['Daegu_amount_grade'].values\n",
    "mdata2021 = change_data2021['Daegu_amount_grade'].values\n",
    "mdata2022 = change_data2022['Daegu_amount_grade'].values\n",
    "mdata2023 = change_data2023['Daegu_amount_grade'].values\n",
    "\n",
    "adata2020 = change_data2020['Daegu_allpay_grade'].values\n",
    "adata2021 = change_data2021['Daegu_allpay_grade'].values\n",
    "adata2022 = change_data2022['Daegu_allpay_grade'].values\n",
    "adata2023 = change_data2023['Daegu_allpay_grade'].values\n",
    "\n",
    "data2020 = change_data2020['Daegu_pay_grade'].values\n",
    "data2021 = change_data2021['Daegu_pay_grade'].values\n",
    "data2022 = change_data2022['Daegu_pay_grade'].values\n",
    "data2023 = change_data2023['Daegu_pay_grade'].values\n",
    "\n",
    "mdata2021_2020 = abs(mdata2021)-abs(mdata2020)\n",
    "mdata2022_2021 = abs(mdata2022)-abs(mdata2021)\n",
    "mdata2023_2022 = abs(mdata2023)-abs(mdata2022)\n",
    "\n",
    "adata2021_2020 = abs(adata2021)-abs(adata2020)\n",
    "adata2022_2021 = abs(adata2022)-abs(adata2021)\n",
    "adata2023_2022 = abs(adata2023)-abs(adata2022)\n",
    "\n",
    "data2021_2020 = abs(data2021)-abs(data2020)\n",
    "data2022_2021 = abs(data2022)-abs(data2021)\n",
    "data2023_2022 = abs(data2023)-abs(data2022)"
   ]
  },
  {
   "cell_type": "code",
   "execution_count": null,
   "metadata": {},
   "outputs": [],
   "source": [
    "pltdata(months, mdata2021_2020, mdata2022_2021, mdata2023_2022, \"대구\", \"총 거래 물량\")"
   ]
  },
  {
   "cell_type": "code",
   "execution_count": null,
   "metadata": {},
   "outputs": [],
   "source": [
    "pltdata(months, adata2021_2020, adata2022_2021, adata2023_2022, \"대구\", \"총 거래 금액\")"
   ]
  },
  {
   "cell_type": "code",
   "execution_count": null,
   "metadata": {},
   "outputs": [],
   "source": [
    "pltdata(months, data2021_2020, data2022_2021, data2023_2022, \"대구\", \"평균 거래 금액\")"
   ]
  },
  {
   "cell_type": "markdown",
   "metadata": {},
   "source": [
    "# 대전"
   ]
  },
  {
   "cell_type": "code",
   "execution_count": null,
   "metadata": {},
   "outputs": [],
   "source": [
    "mdata2020 = change_data2020['Daejeon_amount_grade'].values\n",
    "mdata2021 = change_data2021['Daejeon_amount_grade'].values\n",
    "mdata2022 = change_data2022['Daejeon_amount_grade'].values\n",
    "mdata2023 = change_data2023['Daejeon_amount_grade'].values\n",
    "\n",
    "adata2020 = change_data2020['Daejeon_allpay_grade'].values\n",
    "adata2021 = change_data2021['Daejeon_allpay_grade'].values\n",
    "adata2022 = change_data2022['Daejeon_allpay_grade'].values\n",
    "adata2023 = change_data2023['Daejeon_allpay_grade'].values\n",
    "\n",
    "data2020 = change_data2020['Daejeon_pay_grade'].values\n",
    "data2021 = change_data2021['Daejeon_pay_grade'].values\n",
    "data2022 = change_data2022['Daejeon_pay_grade'].values\n",
    "data2023 = change_data2023['Daejeon_pay_grade'].values\n",
    "\n",
    "mdata2021_2020 = abs(mdata2021)-abs(mdata2020)\n",
    "mdata2022_2021 = abs(mdata2022)-abs(mdata2021)\n",
    "mdata2023_2022 = abs(mdata2023)-abs(mdata2022)\n",
    "\n",
    "adata2021_2020 = abs(adata2021)-abs(adata2020)\n",
    "adata2022_2021 = abs(adata2022)-abs(adata2021)\n",
    "adata2023_2022 = abs(adata2023)-abs(adata2022)\n",
    "\n",
    "data2021_2020 = abs(data2021)-abs(data2020)\n",
    "data2022_2021 = abs(data2022)-abs(data2021)\n",
    "data2023_2022 = abs(data2023)-abs(data2022)"
   ]
  },
  {
   "cell_type": "code",
   "execution_count": null,
   "metadata": {},
   "outputs": [],
   "source": [
    "pltdata(months, mdata2021_2020, mdata2022_2021, mdata2023_2022, \"대전\", \"총 거래 물량\")"
   ]
  },
  {
   "cell_type": "code",
   "execution_count": null,
   "metadata": {},
   "outputs": [],
   "source": [
    "pltdata(months, adata2021_2020, adata2022_2021, adata2023_2022, \"대전\", \"총 거래 금액\")"
   ]
  },
  {
   "cell_type": "code",
   "execution_count": null,
   "metadata": {},
   "outputs": [],
   "source": [
    "pltdata(months, data2021_2020, data2022_2021, data2023_2022, \"대전\", \"평균 거래 금액\")"
   ]
  },
  {
   "cell_type": "markdown",
   "metadata": {},
   "source": [
    "# 광주"
   ]
  },
  {
   "cell_type": "code",
   "execution_count": null,
   "metadata": {},
   "outputs": [],
   "source": [
    "mdata2020 = change_data2020['Gwangju_amount_grade'].values\n",
    "mdata2021 = change_data2021['Gwangju_amount_grade'].values\n",
    "mdata2022 = change_data2022['Gwangju_amount_grade'].values\n",
    "mdata2023 = change_data2023['Gwangju_amount_grade'].values\n",
    "\n",
    "adata2020 = change_data2020['Gwangju_allpay_grade'].values\n",
    "adata2021 = change_data2021['Gwangju_allpay_grade'].values\n",
    "adata2022 = change_data2022['Gwangju_allpay_grade'].values\n",
    "adata2023 = change_data2023['Gwangju_allpay_grade'].values\n",
    "\n",
    "data2020 = change_data2020['Gwangju_pay_grade'].values\n",
    "data2021 = change_data2021['Gwangju_pay_grade'].values\n",
    "data2022 = change_data2022['Gwangju_pay_grade'].values\n",
    "data2023 = change_data2023['Gwangju_pay_grade'].values\n",
    "\n",
    "mdata2021_2020 = abs(mdata2021)-abs(mdata2020)\n",
    "mdata2022_2021 = abs(mdata2022)-abs(mdata2021)\n",
    "mdata2023_2022 = abs(mdata2023)-abs(mdata2022)\n",
    "\n",
    "adata2021_2020 = abs(adata2021)-abs(adata2020)\n",
    "adata2022_2021 = abs(adata2022)-abs(adata2021)\n",
    "adata2023_2022 = abs(adata2023)-abs(adata2022)\n",
    "\n",
    "data2021_2020 = abs(data2021)-abs(data2020)\n",
    "data2022_2021 = abs(data2022)-abs(data2021)\n",
    "data2023_2022 = abs(data2023)-abs(data2022)"
   ]
  },
  {
   "cell_type": "code",
   "execution_count": null,
   "metadata": {},
   "outputs": [],
   "source": [
    "pltdata(months, mdata2021_2020, mdata2022_2021, mdata2023_2022, \"광주\", \"총 거래 물량\")"
   ]
  },
  {
   "cell_type": "code",
   "execution_count": null,
   "metadata": {},
   "outputs": [],
   "source": [
    "pltdata(months, adata2021_2020, adata2022_2021, adata2023_2022, \"광주\", \"총 거래 금액\")"
   ]
  },
  {
   "cell_type": "code",
   "execution_count": null,
   "metadata": {},
   "outputs": [],
   "source": [
    "pltdata(months, data2021_2020, data2022_2021, data2023_2022, \"광주\", \"평균 거래 금액\")"
   ]
  },
  {
   "cell_type": "markdown",
   "metadata": {},
   "source": [
    "# 그래프 구간"
   ]
  },
  {
   "cell_type": "code",
   "execution_count": null,
   "metadata": {},
   "outputs": [],
   "source": [
    "plt.stackplot(months, data2020, data2021, data2022, data2023, colors=['b', 'r', 'y', 'black'], labels=['2020', '2021', '2022', '2023'])\n",
    "\n",
    "plt.xlabel('월')\n",
    "plt.ylabel('평균 거래 금액')\n",
    "plt.title('연도별 평균 거래금액 변화향')\n",
    "plt.legend(loc='upper left')\n",
    "plt.show()"
   ]
  }
 ],
 "metadata": {
  "kernelspec": {
   "display_name": "base",
   "language": "python",
   "name": "python3"
  },
  "language_info": {
   "codemirror_mode": {
    "name": "ipython",
    "version": 3
   },
   "file_extension": ".py",
   "mimetype": "text/x-python",
   "name": "python",
   "nbconvert_exporter": "python",
   "pygments_lexer": "ipython3",
   "version": "3.11.4"
  },
  "orig_nbformat": 4
 },
 "nbformat": 4,
 "nbformat_minor": 2
}
