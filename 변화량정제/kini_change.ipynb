{
 "cells": [
  {
   "cell_type": "code",
   "execution_count": 1,
   "metadata": {},
   "outputs": [],
   "source": [
    "import numpy as np\n",
    "import pandas as pd\n",
    "import matplotlib.pyplot as plt\n",
    "import seaborn as sns\n",
    "from matplotlib import rc,  font_manager\n",
    "import matplotlib\n",
    "import torch\n",
    "import torch.nn as nn\n",
    "import torch.nn.functional as F\n",
    "import torch.optim as optim\n",
    "matplotlib.rcParams['axes.unicode_minus'] = False\n",
    "fontname = \"C:/Windows/Fonts/malgun.ttf\"\n",
    "font_name = font_manager.FontProperties(fname=fontname).get_name()\n",
    "rc('font', family=font_name)"
   ]
  },
  {
   "cell_type": "code",
   "execution_count": 2,
   "metadata": {},
   "outputs": [],
   "source": [
    "get_data = pd.read_csv('../data/TEMP/경락가격/애호박/애호박 월별 총거래(정제).csv', index_col=None)"
   ]
  },
  {
   "cell_type": "code",
   "execution_count": 3,
   "metadata": {},
   "outputs": [
    {
     "data": {
      "text/plain": [
       "44"
      ]
     },
     "execution_count": 3,
     "metadata": {},
     "output_type": "execute_result"
    }
   ],
   "source": [
    "len(get_data['Date'])"
   ]
  },
  {
   "cell_type": "code",
   "execution_count": 3,
   "metadata": {},
   "outputs": [],
   "source": [
    "get_data['Date'] = pd.to_datetime(get_data['Date'])"
   ]
  },
  {
   "cell_type": "code",
   "execution_count": 4,
   "metadata": {},
   "outputs": [],
   "source": [
    "years = get_data['Date'].dt.year.unique()"
   ]
  },
  {
   "cell_type": "code",
   "execution_count": 9,
   "metadata": {},
   "outputs": [
    {
     "name": "stdout",
     "output_type": "stream",
     "text": [
      "<class 'pandas.core.frame.DataFrame'>\n",
      "RangeIndex: 44 entries, 0 to 43\n",
      "Data columns (total 16 columns):\n",
      " #   Column     Non-Null Count  Dtype         \n",
      "---  ------     --------------  -----         \n",
      " 0   Date       44 non-null     datetime64[ns]\n",
      " 1   서울 총거래물량   44 non-null     float64       \n",
      " 2   서울 총거래금액   44 non-null     int64         \n",
      " 3   서울 평균거래금액  44 non-null     float64       \n",
      " 4   부산 총거래물량   44 non-null     float64       \n",
      " 5   부산 총거래금액   44 non-null     int64         \n",
      " 6   부산 평균거래금액  44 non-null     float64       \n",
      " 7   대구 총거래물량   44 non-null     float64       \n",
      " 8   대구 총거래금액   44 non-null     int64         \n",
      " 9   대구 평균거래금액  44 non-null     float64       \n",
      " 10  대전 총거래물량   44 non-null     float64       \n",
      " 11  대전 총거래금액   44 non-null     int64         \n",
      " 12  대전 평균거래금액  44 non-null     float64       \n",
      " 13  광주 총거래물량   44 non-null     float64       \n",
      " 14  광주 총거래금액   44 non-null     int64         \n",
      " 15  광주 평균거래금액  44 non-null     float64       \n",
      "dtypes: datetime64[ns](1), float64(10), int64(5)\n",
      "memory usage: 5.6 KB\n"
     ]
    }
   ],
   "source": [
    "get_data.info()"
   ]
  },
  {
   "cell_type": "code",
   "execution_count": 5,
   "metadata": {},
   "outputs": [
    {
     "name": "stdout",
     "output_type": "stream",
     "text": [
      "173274470.77\n",
      "375044056987\n",
      "102733.83275643835\n",
      "21778114.400000006\n",
      "51540136136\n",
      "111383.38509158885\n",
      "47964261.0\n",
      "85736014418\n",
      "82655.9800355639\n",
      "18463456.0\n",
      "40324492589\n",
      "101172.19416626844\n",
      "24548676.2\n",
      "53994251601\n",
      "102433.55050567021\n",
      "173274470.77\n",
      "375044056987\n",
      "102733.83275643835\n",
      "21778114.400000006\n",
      "51540136136\n",
      "111383.38509158885\n",
      "47964261.0\n",
      "85736014418\n",
      "82655.9800355639\n",
      "18463456.0\n",
      "40324492589\n",
      "101172.19416626844\n",
      "24548676.2\n",
      "53994251601\n",
      "102433.55050567021\n",
      "173274470.77\n",
      "375044056987\n",
      "102733.83275643835\n",
      "21778114.400000006\n",
      "51540136136\n",
      "111383.38509158885\n",
      "47964261.0\n",
      "85736014418\n",
      "82655.9800355639\n",
      "18463456.0\n",
      "40324492589\n",
      "101172.19416626844\n",
      "24548676.2\n",
      "53994251601\n",
      "102433.55050567021\n",
      "173274470.77\n",
      "375044056987\n",
      "102733.83275643835\n",
      "21778114.400000006\n",
      "51540136136\n",
      "111383.38509158885\n",
      "47964261.0\n",
      "85736014418\n",
      "82655.9800355639\n",
      "18463456.0\n",
      "40324492589\n",
      "101172.19416626844\n",
      "24548676.2\n",
      "53994251601\n",
      "102433.55050567021\n"
     ]
    },
    {
     "data": {
      "text/plain": [
       "[[2020,\n",
       "  173274470.77,\n",
       "  375044056987,\n",
       "  102733.83275643835,\n",
       "  21778114.400000006,\n",
       "  51540136136,\n",
       "  111383.38509158885,\n",
       "  47964261.0,\n",
       "  85736014418,\n",
       "  82655.9800355639,\n",
       "  18463456.0,\n",
       "  40324492589,\n",
       "  101172.19416626844,\n",
       "  24548676.2,\n",
       "  53994251601,\n",
       "  102433.55050567021],\n",
       " [2021,\n",
       "  173274470.77,\n",
       "  375044056987,\n",
       "  102733.83275643835,\n",
       "  21778114.400000006,\n",
       "  51540136136,\n",
       "  111383.38509158885,\n",
       "  47964261.0,\n",
       "  85736014418,\n",
       "  82655.9800355639,\n",
       "  18463456.0,\n",
       "  40324492589,\n",
       "  101172.19416626844,\n",
       "  24548676.2,\n",
       "  53994251601,\n",
       "  102433.55050567021],\n",
       " [2022,\n",
       "  173274470.77,\n",
       "  375044056987,\n",
       "  102733.83275643835,\n",
       "  21778114.400000006,\n",
       "  51540136136,\n",
       "  111383.38509158885,\n",
       "  47964261.0,\n",
       "  85736014418,\n",
       "  82655.9800355639,\n",
       "  18463456.0,\n",
       "  40324492589,\n",
       "  101172.19416626844,\n",
       "  24548676.2,\n",
       "  53994251601,\n",
       "  102433.55050567021],\n",
       " [2023,\n",
       "  173274470.77,\n",
       "  375044056987,\n",
       "  102733.83275643835,\n",
       "  21778114.400000006,\n",
       "  51540136136,\n",
       "  111383.38509158885,\n",
       "  47964261.0,\n",
       "  85736014418,\n",
       "  82655.9800355639,\n",
       "  18463456.0,\n",
       "  40324492589,\n",
       "  101172.19416626844,\n",
       "  24548676.2,\n",
       "  53994251601,\n",
       "  102433.55050567021]]"
      ]
     },
     "execution_count": 5,
     "metadata": {},
     "output_type": "execute_result"
    }
   ],
   "source": [
    "year_mean = []\n",
    "year_addon = []\n",
    "for i in years:\n",
    "    for j in get_data.columns:\n",
    "        if j != 'Date':\n",
    "            data_p = get_data['%s' %j].values\n",
    "            print(data_p.sum())\n",
    "            year_addon.append(data_p.sum())\n",
    "        else:\n",
    "            year_addon.append(i)\n",
    "    year_mean.append(year_addon)\n",
    "    year_addon = []\n",
    "\n",
    "year_mean"
   ]
  },
  {
   "cell_type": "code",
   "execution_count": 6,
   "metadata": {},
   "outputs": [],
   "source": [
    "year_df = pd.DataFrame(year_mean, columns=['year', '서울 총거래물량', '서울 총거래금액', '서울 평균거래금액', '부산 총거래물량', '부산 총거래금액', '부산 평균거래금액', '대구 총거래물량', '대구 총거래금액', '대구 평균거래금액', '대전 총거래물량', '대전 총거래금액', '대전 평균거래금액', '광주 총거래물량', '광주 총거래금액', '광주 평균거래금액'])"
   ]
  },
  {
   "cell_type": "code",
   "execution_count": 18,
   "metadata": {},
   "outputs": [
    {
     "data": {
      "text/html": [
       "<div>\n",
       "<style scoped>\n",
       "    .dataframe tbody tr th:only-of-type {\n",
       "        vertical-align: middle;\n",
       "    }\n",
       "\n",
       "    .dataframe tbody tr th {\n",
       "        vertical-align: top;\n",
       "    }\n",
       "\n",
       "    .dataframe thead th {\n",
       "        text-align: right;\n",
       "    }\n",
       "</style>\n",
       "<table border=\"1\" class=\"dataframe\">\n",
       "  <thead>\n",
       "    <tr style=\"text-align: right;\">\n",
       "      <th></th>\n",
       "      <th>year</th>\n",
       "      <th>서울 총거래물량</th>\n",
       "      <th>서울 총거래금액</th>\n",
       "      <th>서울 평균거래금액</th>\n",
       "      <th>부산 총거래물량</th>\n",
       "      <th>부산 총거래금액</th>\n",
       "      <th>부산 평균거래금액</th>\n",
       "      <th>대구 총거래물량</th>\n",
       "      <th>대구 총거래금액</th>\n",
       "      <th>대구 평균거래금액</th>\n",
       "      <th>대전 총거래물량</th>\n",
       "      <th>대전 총거래금액</th>\n",
       "      <th>대전 평균거래금액</th>\n",
       "      <th>광주 총거래물량</th>\n",
       "      <th>광주 총거래금액</th>\n",
       "      <th>광주 평균거래금액</th>\n",
       "    </tr>\n",
       "  </thead>\n",
       "  <tbody>\n",
       "    <tr>\n",
       "      <th>0</th>\n",
       "      <td>2020</td>\n",
       "      <td>1.732745e+08</td>\n",
       "      <td>375044056987</td>\n",
       "      <td>102733.832756</td>\n",
       "      <td>21778114.4</td>\n",
       "      <td>51540136136</td>\n",
       "      <td>111383.385092</td>\n",
       "      <td>47964261.0</td>\n",
       "      <td>85736014418</td>\n",
       "      <td>82655.980036</td>\n",
       "      <td>18463456.0</td>\n",
       "      <td>40324492589</td>\n",
       "      <td>101172.194166</td>\n",
       "      <td>24548676.2</td>\n",
       "      <td>53994251601</td>\n",
       "      <td>102433.550506</td>\n",
       "    </tr>\n",
       "    <tr>\n",
       "      <th>1</th>\n",
       "      <td>2021</td>\n",
       "      <td>1.732745e+08</td>\n",
       "      <td>375044056987</td>\n",
       "      <td>102733.832756</td>\n",
       "      <td>21778114.4</td>\n",
       "      <td>51540136136</td>\n",
       "      <td>111383.385092</td>\n",
       "      <td>47964261.0</td>\n",
       "      <td>85736014418</td>\n",
       "      <td>82655.980036</td>\n",
       "      <td>18463456.0</td>\n",
       "      <td>40324492589</td>\n",
       "      <td>101172.194166</td>\n",
       "      <td>24548676.2</td>\n",
       "      <td>53994251601</td>\n",
       "      <td>102433.550506</td>\n",
       "    </tr>\n",
       "    <tr>\n",
       "      <th>2</th>\n",
       "      <td>2022</td>\n",
       "      <td>1.732745e+08</td>\n",
       "      <td>375044056987</td>\n",
       "      <td>102733.832756</td>\n",
       "      <td>21778114.4</td>\n",
       "      <td>51540136136</td>\n",
       "      <td>111383.385092</td>\n",
       "      <td>47964261.0</td>\n",
       "      <td>85736014418</td>\n",
       "      <td>82655.980036</td>\n",
       "      <td>18463456.0</td>\n",
       "      <td>40324492589</td>\n",
       "      <td>101172.194166</td>\n",
       "      <td>24548676.2</td>\n",
       "      <td>53994251601</td>\n",
       "      <td>102433.550506</td>\n",
       "    </tr>\n",
       "    <tr>\n",
       "      <th>3</th>\n",
       "      <td>2023</td>\n",
       "      <td>1.732745e+08</td>\n",
       "      <td>375044056987</td>\n",
       "      <td>102733.832756</td>\n",
       "      <td>21778114.4</td>\n",
       "      <td>51540136136</td>\n",
       "      <td>111383.385092</td>\n",
       "      <td>47964261.0</td>\n",
       "      <td>85736014418</td>\n",
       "      <td>82655.980036</td>\n",
       "      <td>18463456.0</td>\n",
       "      <td>40324492589</td>\n",
       "      <td>101172.194166</td>\n",
       "      <td>24548676.2</td>\n",
       "      <td>53994251601</td>\n",
       "      <td>102433.550506</td>\n",
       "    </tr>\n",
       "  </tbody>\n",
       "</table>\n",
       "</div>"
      ],
      "text/plain": [
       "   year      서울 총거래물량      서울 총거래금액      서울 평균거래금액    부산 총거래물량     부산 총거래금액  \\\n",
       "0  2020  1.732745e+08  375044056987  102733.832756  21778114.4  51540136136   \n",
       "1  2021  1.732745e+08  375044056987  102733.832756  21778114.4  51540136136   \n",
       "2  2022  1.732745e+08  375044056987  102733.832756  21778114.4  51540136136   \n",
       "3  2023  1.732745e+08  375044056987  102733.832756  21778114.4  51540136136   \n",
       "\n",
       "       부산 평균거래금액    대구 총거래물량     대구 총거래금액     대구 평균거래금액    대전 총거래물량  \\\n",
       "0  111383.385092  47964261.0  85736014418  82655.980036  18463456.0   \n",
       "1  111383.385092  47964261.0  85736014418  82655.980036  18463456.0   \n",
       "2  111383.385092  47964261.0  85736014418  82655.980036  18463456.0   \n",
       "3  111383.385092  47964261.0  85736014418  82655.980036  18463456.0   \n",
       "\n",
       "      대전 총거래금액      대전 평균거래금액    광주 총거래물량     광주 총거래금액      광주 평균거래금액  \n",
       "0  40324492589  101172.194166  24548676.2  53994251601  102433.550506  \n",
       "1  40324492589  101172.194166  24548676.2  53994251601  102433.550506  \n",
       "2  40324492589  101172.194166  24548676.2  53994251601  102433.550506  \n",
       "3  40324492589  101172.194166  24548676.2  53994251601  102433.550506  "
      ]
     },
     "execution_count": 18,
     "metadata": {},
     "output_type": "execute_result"
    }
   ],
   "source": [
    "\n",
    "for i in years:\n",
    "    year_df.iloc[year_df['year']== i,'서울 평균거래금액'].values = year_df['서울 총거래물량']/year_df['서울 총거래금액']\n",
    "    year_df.iloc[year_df['year']== i,'부산 평균거래금액'].values = year_df['부산 총거래물량']/year_df['부산 총거래금액']\n",
    "    year_df.iloc[year_df['year']== i,'서울 평균거래금액'].values = year_df['서울 총거래물량']/year_df['대구 총거래금액']\n",
    "    year_df.iloc[year_df['year']== i,'서울 평균거래금액'].values = year_df['서울 총거래물량']/year_df['대전 총거래금액']\n",
    "    year_df.iloc[year_df['year']== i,'서울 평균거래금액'].values = year_df['서울 총거래물량']/year_df['광주 총거래금액']"
   ]
  },
  {
   "cell_type": "code",
   "execution_count": null,
   "metadata": {},
   "outputs": [],
   "source": [
    "get_data.head()"
   ]
  },
  {
   "cell_type": "code",
   "execution_count": 4,
   "metadata": {},
   "outputs": [],
   "source": [
    "amount_grade = []\n",
    "Glen = len(get_data['Date'])\n",
    "amount_grade.append(['2020-01', 0, 0, 0, 0, 0, 0, 0, 0, 0, 0, 0, 0, 0, 0, 0])\n",
    "for i in range(Glen):\n",
    "    if i != Glen-1:\n",
    "        A = get_data['서울 총거래물량'][i+1] - get_data['서울 총거래물량'][i]\n",
    "        B = get_data['서울 총거래금액'][i+1] - get_data['서울 총거래금액'][i]\n",
    "        C = get_data['서울 평균거래금액'][i+1] - get_data['서울 평균거래금액'][i]\n",
    "\n",
    "        D = get_data['부산 총거래물량'][i+1] - get_data['부산 총거래물량'][i]\n",
    "        E = get_data['부산 총거래금액'][i+1] - get_data['부산 총거래금액'][i]\n",
    "        F = get_data['부산 평균거래금액'][i+1] - get_data['부산 평균거래금액'][i]\n",
    "\n",
    "        G = get_data['대구 총거래물량'][i+1] - get_data['대구 총거래물량'][i]\n",
    "        H = get_data['대구 총거래금액'][i+1] - get_data['대구 총거래금액'][i]\n",
    "        I = get_data['대구 평균거래금액'][i+1] - get_data['대구 평균거래금액'][i]\n",
    "\n",
    "        J = get_data['대전 총거래물량'][i+1] - get_data['대전 총거래물량'][i]\n",
    "        K = get_data['대전 총거래금액'][i+1] - get_data['대전 총거래금액'][i]\n",
    "        L = get_data['대전 평균거래금액'][i+1] - get_data['대전 평균거래금액'][i]\n",
    "\n",
    "        M = get_data['광주 총거래물량'][i+1] - get_data['광주 총거래물량'][i]\n",
    "        N = get_data['광주 총거래금액'][i+1] - get_data['광주 총거래금액'][i]\n",
    "        O = get_data['광주 평균거래금액'][i+1] - get_data['광주 평균거래금액'][i]\n",
    "\n",
    "        amount_grade.append([get_data['Date'][i+1], A, B, C, D, E, F, G, H, I, J, K, L, M, N, O])"
   ]
  },
  {
   "cell_type": "code",
   "execution_count": 5,
   "metadata": {},
   "outputs": [],
   "source": [
    "amount_grade.append(['2023-09', 0, 0, 0, 0, 0, 0, 0, 0, 0, 0, 0, 0, 0, 0, 0])\n",
    "amount_grade.append(['2023-10', 0, 0, 0, 0, 0, 0, 0, 0, 0, 0, 0, 0, 0, 0, 0])\n",
    "amount_grade.append(['2023-11', 0, 0, 0, 0, 0, 0, 0, 0, 0, 0, 0, 0, 0, 0, 0])\n",
    "amount_grade.append(['2023-12', 0, 0, 0, 0, 0, 0, 0, 0, 0, 0, 0, 0, 0, 0, 0])"
   ]
  },
  {
   "cell_type": "code",
   "execution_count": 6,
   "metadata": {},
   "outputs": [],
   "source": [
    "df = pd.DataFrame(amount_grade, columns=['Month', 'Seoul_amount_grade', 'Seoul_allpay_grade', 'Seoul_pay_grade', 'Busan_amount_grade', 'Busan_allpay_grade', 'Busan_pay_grade', 'Daegu_amount_grade', 'Daegu_allpay_grade', 'Daegu_pay_grade', 'Daejeon_amount_grade', 'Daejeon_allpay_grade', 'Daejeon_pay_grade', 'Gwangju_amount_grade', 'Gwangju_allpay_grade', 'Gwangju_pay_grade'])"
   ]
  },
  {
   "cell_type": "code",
   "execution_count": null,
   "metadata": {},
   "outputs": [],
   "source": [
    "df.to_csv('../data/TEMP/경락가격/애호박/애호박 월별 거래 변화량.csv', index=False, encoding='UTF-8')"
   ]
  },
  {
   "cell_type": "code",
   "execution_count": 7,
   "metadata": {},
   "outputs": [],
   "source": [
    "change_data = pd.read_csv('../data/TEMP/경락가격/애호박/애호박 월별 거래 변화량.csv', index_col=None)"
   ]
  },
  {
   "cell_type": "code",
   "execution_count": 8,
   "metadata": {},
   "outputs": [],
   "source": [
    "change_data['Month'] = pd.to_datetime(change_data['Month'])"
   ]
  },
  {
   "cell_type": "code",
   "execution_count": 9,
   "metadata": {},
   "outputs": [],
   "source": [
    "change_data2020 = change_data[change_data['Month'].dt.year == 2020]\n",
    "change_data2021 = change_data[change_data['Month'].dt.year == 2021]\n",
    "change_data2022 = change_data[change_data['Month'].dt.year == 2022]\n",
    "change_data2023 = change_data[change_data['Month'].dt.year == 2023]"
   ]
  },
  {
   "cell_type": "code",
   "execution_count": 11,
   "metadata": {},
   "outputs": [],
   "source": [
    "months = change_data['Month'].dt.month.unique()\n",
    "months.sort()\n",
    "\n"
   ]
  },
  {
   "cell_type": "code",
   "execution_count": null,
   "metadata": {},
   "outputs": [],
   "source": [
    "def pltdata(month, area2021, area2022, area2023, area, title):\n",
    "    plt.figure(figsize=(10,10))\n",
    "\n",
    "    plt.subplot(2,2,1)\n",
    "    plt.barh(month, area2021, color='Black')\n",
    "    plt.ylabel('월')\n",
    "    plt.yticks(month, [f'{i}월' for i in month])\n",
    "    plt.xlabel('%s 차이' %title)\n",
    "    plt.title('2021년 대비 2020년 %s %s 변화량' % (area, title))\n",
    "\n",
    "    plt.subplot(2,2,2)\n",
    "    plt.barh(month, area2022, color='r')\n",
    "    plt.ylabel('월')\n",
    "    plt.yticks(month, [f'{i}월' for i in month])\n",
    "    plt.xlabel('%s 차이' %title)\n",
    "    plt.title('2022년 대비 2021년 %s %s 변화량' %(area, title))\n",
    "\n",
    "    plt.subplot(2,2,3)\n",
    "    plt.barh(month, area2023, color='g')\n",
    "    plt.ylabel('월')\n",
    "    plt.yticks(month, [f'{i}월' for i in month])\n",
    "    plt.xlabel('%s 차이' %title)\n",
    "    plt.title('2023년 대비 2022년 %s %s 변화량' %(area, title))\n",
    "\n",
    "    plt.savefig('../data/각 년도 별 %s의 %s 변화량 차이.png' %(area, title))\n",
    "    plt.show()"
   ]
  },
  {
   "cell_type": "markdown",
   "metadata": {},
   "source": [
    "# 서울"
   ]
  },
  {
   "cell_type": "code",
   "execution_count": null,
   "metadata": {},
   "outputs": [],
   "source": [
    "mdata2020 = change_data2020['Seoul_amount_grade'].values\n",
    "mdata2021 = change_data2021['Seoul_amount_grade'].values\n",
    "mdata2022 = change_data2022['Seoul_amount_grade'].values\n",
    "mdata2023 = change_data2023['Seoul_amount_grade'].values\n",
    "\n",
    "adata2020 = change_data2020['Seoul_allpay_grade'].values\n",
    "adata2021 = change_data2021['Seoul_allpay_grade'].values\n",
    "adata2022 = change_data2022['Seoul_allpay_grade'].values\n",
    "adata2023 = change_data2023['Seoul_allpay_grade'].values\n",
    "\n",
    "data2020 = change_data2020['Seoul_pay_grade'].values\n",
    "data2021 = change_data2021['Seoul_pay_grade'].values\n",
    "data2022 = change_data2022['Seoul_pay_grade'].values\n",
    "data2023 = change_data2023['Seoul_pay_grade'].values\n",
    "\n",
    "mdata2021_2020 = abs(mdata2021)-abs(mdata2020)\n",
    "mdata2022_2021 = abs(mdata2022)-abs(mdata2021)\n",
    "mdata2023_2022 = abs(mdata2023)-abs(mdata2022)\n",
    "\n",
    "adata2021_2020 = abs(adata2021)-abs(adata2020)\n",
    "adata2022_2021 = abs(adata2022)-abs(adata2021)\n",
    "adata2023_2022 = abs(adata2023)-abs(adata2022)\n",
    "\n",
    "\n",
    "data2021_2020 = abs(data2021)-abs(data2020)\n",
    "data2022_2021 = abs(data2022)-abs(data2021)\n",
    "data2023_2022 = abs(data2023)-abs(data2022)"
   ]
  },
  {
   "cell_type": "code",
   "execution_count": null,
   "metadata": {},
   "outputs": [],
   "source": [
    "pltdata(months, mdata2021_2020, mdata2022_2021, mdata2023_2022, \"서울\", \"총 거래 물량\")"
   ]
  },
  {
   "cell_type": "code",
   "execution_count": null,
   "metadata": {},
   "outputs": [],
   "source": [
    "pltdata(months, adata2021_2020, adata2022_2021, adata2023_2022, \"서울\", \"총 거래 금액\")"
   ]
  },
  {
   "cell_type": "code",
   "execution_count": null,
   "metadata": {},
   "outputs": [],
   "source": [
    "pltdata(months, data2021_2020, data2022_2021, data2023_2022, \"서울\", \"평균 거래 금액\")"
   ]
  },
  {
   "cell_type": "markdown",
   "metadata": {},
   "source": [
    "# 부산"
   ]
  },
  {
   "cell_type": "code",
   "execution_count": null,
   "metadata": {},
   "outputs": [],
   "source": [
    "mdata2020 = change_data2020['Busan_amount_grade'].values\n",
    "mdata2021 = change_data2021['Busan_amount_grade'].values\n",
    "mdata2022 = change_data2022['Busan_amount_grade'].values\n",
    "mdata2023 = change_data2023['Busan_amount_grade'].values\n",
    "\n",
    "adata2020 = change_data2020['Busan_allpay_grade'].values\n",
    "adata2021 = change_data2021['Busan_allpay_grade'].values\n",
    "adata2022 = change_data2022['Busan_allpay_grade'].values\n",
    "adata2023 = change_data2023['Busan_allpay_grade'].values\n",
    "\n",
    "data2020 = change_data2020['Busan_pay_grade'].values\n",
    "data2021 = change_data2021['Busan_pay_grade'].values\n",
    "data2022 = change_data2022['Busan_pay_grade'].values\n",
    "data2023 = change_data2023['Busan_pay_grade'].values\n",
    "\n",
    "mdata2021_2020 = abs(mdata2021)-abs(mdata2020)\n",
    "mdata2022_2021 = abs(mdata2022)-abs(mdata2021)\n",
    "mdata2023_2022 = abs(mdata2023)-abs(mdata2022)\n",
    "\n",
    "adata2021_2020 = abs(adata2021)-abs(adata2020)\n",
    "adata2022_2021 = abs(adata2022)-abs(adata2021)\n",
    "adata2023_2022 = abs(adata2023)-abs(adata2022)\n",
    "\n",
    "data2021_2020 = abs(data2021)-abs(data2020)\n",
    "data2022_2021 = abs(data2022)-abs(data2021)\n",
    "data2023_2022 = abs(data2023)-abs(data2022)"
   ]
  },
  {
   "cell_type": "code",
   "execution_count": null,
   "metadata": {},
   "outputs": [],
   "source": [
    "pltdata(months, mdata2021_2020, mdata2022_2021, mdata2023_2022, \"부산\", \"총 거래 물량\")"
   ]
  },
  {
   "cell_type": "code",
   "execution_count": null,
   "metadata": {},
   "outputs": [],
   "source": [
    "pltdata(months, adata2021_2020, adata2022_2021, adata2023_2022, \"부산\", \"총 거래 금액\")"
   ]
  },
  {
   "cell_type": "code",
   "execution_count": null,
   "metadata": {},
   "outputs": [],
   "source": [
    "pltdata(months, data2021_2020, data2022_2021, data2023_2022, \"부산\", \"평균 거래 금액\")"
   ]
  },
  {
   "cell_type": "markdown",
   "metadata": {},
   "source": [
    "# 대구"
   ]
  },
  {
   "cell_type": "code",
   "execution_count": null,
   "metadata": {},
   "outputs": [],
   "source": [
    "mdata2020 = change_data2020['Daegu_amount_grade'].values\n",
    "mdata2021 = change_data2021['Daegu_amount_grade'].values\n",
    "mdata2022 = change_data2022['Daegu_amount_grade'].values\n",
    "mdata2023 = change_data2023['Daegu_amount_grade'].values\n",
    "\n",
    "adata2020 = change_data2020['Daegu_allpay_grade'].values\n",
    "adata2021 = change_data2021['Daegu_allpay_grade'].values\n",
    "adata2022 = change_data2022['Daegu_allpay_grade'].values\n",
    "adata2023 = change_data2023['Daegu_allpay_grade'].values\n",
    "\n",
    "data2020 = change_data2020['Daegu_pay_grade'].values\n",
    "data2021 = change_data2021['Daegu_pay_grade'].values\n",
    "data2022 = change_data2022['Daegu_pay_grade'].values\n",
    "data2023 = change_data2023['Daegu_pay_grade'].values\n",
    "\n",
    "mdata2021_2020 = abs(mdata2021)-abs(mdata2020)\n",
    "mdata2022_2021 = abs(mdata2022)-abs(mdata2021)\n",
    "mdata2023_2022 = abs(mdata2023)-abs(mdata2022)\n",
    "\n",
    "adata2021_2020 = abs(adata2021)-abs(adata2020)\n",
    "adata2022_2021 = abs(adata2022)-abs(adata2021)\n",
    "adata2023_2022 = abs(adata2023)-abs(adata2022)\n",
    "\n",
    "data2021_2020 = abs(data2021)-abs(data2020)\n",
    "data2022_2021 = abs(data2022)-abs(data2021)\n",
    "data2023_2022 = abs(data2023)-abs(data2022)"
   ]
  },
  {
   "cell_type": "code",
   "execution_count": null,
   "metadata": {},
   "outputs": [],
   "source": [
    "pltdata(months, mdata2021_2020, mdata2022_2021, mdata2023_2022, \"대구\", \"총 거래 물량\")"
   ]
  },
  {
   "cell_type": "code",
   "execution_count": null,
   "metadata": {},
   "outputs": [],
   "source": [
    "pltdata(months, adata2021_2020, adata2022_2021, adata2023_2022, \"대구\", \"총 거래 금액\")"
   ]
  },
  {
   "cell_type": "code",
   "execution_count": null,
   "metadata": {},
   "outputs": [],
   "source": [
    "pltdata(months, data2021_2020, data2022_2021, data2023_2022, \"대구\", \"평균 거래 금액\")"
   ]
  },
  {
   "cell_type": "markdown",
   "metadata": {},
   "source": [
    "# 대전"
   ]
  },
  {
   "cell_type": "code",
   "execution_count": null,
   "metadata": {},
   "outputs": [],
   "source": [
    "mdata2020 = change_data2020['Daejeon_amount_grade'].values\n",
    "mdata2021 = change_data2021['Daejeon_amount_grade'].values\n",
    "mdata2022 = change_data2022['Daejeon_amount_grade'].values\n",
    "mdata2023 = change_data2023['Daejeon_amount_grade'].values\n",
    "\n",
    "adata2020 = change_data2020['Daejeon_allpay_grade'].values\n",
    "adata2021 = change_data2021['Daejeon_allpay_grade'].values\n",
    "adata2022 = change_data2022['Daejeon_allpay_grade'].values\n",
    "adata2023 = change_data2023['Daejeon_allpay_grade'].values\n",
    "\n",
    "data2020 = change_data2020['Daejeon_pay_grade'].values\n",
    "data2021 = change_data2021['Daejeon_pay_grade'].values\n",
    "data2022 = change_data2022['Daejeon_pay_grade'].values\n",
    "data2023 = change_data2023['Daejeon_pay_grade'].values\n",
    "\n",
    "mdata2021_2020 = abs(mdata2021)-abs(mdata2020)\n",
    "mdata2022_2021 = abs(mdata2022)-abs(mdata2021)\n",
    "mdata2023_2022 = abs(mdata2023)-abs(mdata2022)\n",
    "\n",
    "adata2021_2020 = abs(adata2021)-abs(adata2020)\n",
    "adata2022_2021 = abs(adata2022)-abs(adata2021)\n",
    "adata2023_2022 = abs(adata2023)-abs(adata2022)\n",
    "\n",
    "data2021_2020 = abs(data2021)-abs(data2020)\n",
    "data2022_2021 = abs(data2022)-abs(data2021)\n",
    "data2023_2022 = abs(data2023)-abs(data2022)"
   ]
  },
  {
   "cell_type": "code",
   "execution_count": null,
   "metadata": {},
   "outputs": [],
   "source": [
    "pltdata(months, mdata2021_2020, mdata2022_2021, mdata2023_2022, \"대전\", \"총 거래 물량\")"
   ]
  },
  {
   "cell_type": "code",
   "execution_count": null,
   "metadata": {},
   "outputs": [],
   "source": [
    "pltdata(months, adata2021_2020, adata2022_2021, adata2023_2022, \"대전\", \"총 거래 금액\")"
   ]
  },
  {
   "cell_type": "code",
   "execution_count": null,
   "metadata": {},
   "outputs": [],
   "source": [
    "pltdata(months, data2021_2020, data2022_2021, data2023_2022, \"대전\", \"평균 거래 금액\")"
   ]
  },
  {
   "cell_type": "markdown",
   "metadata": {},
   "source": [
    "# 광주"
   ]
  },
  {
   "cell_type": "code",
   "execution_count": null,
   "metadata": {},
   "outputs": [],
   "source": [
    "mdata2020 = change_data2020['Gwangju_amount_grade'].values\n",
    "mdata2021 = change_data2021['Gwangju_amount_grade'].values\n",
    "mdata2022 = change_data2022['Gwangju_amount_grade'].values\n",
    "mdata2023 = change_data2023['Gwangju_amount_grade'].values\n",
    "\n",
    "adata2020 = change_data2020['Gwangju_allpay_grade'].values\n",
    "adata2021 = change_data2021['Gwangju_allpay_grade'].values\n",
    "adata2022 = change_data2022['Gwangju_allpay_grade'].values\n",
    "adata2023 = change_data2023['Gwangju_allpay_grade'].values\n",
    "\n",
    "data2020 = change_data2020['Gwangju_pay_grade'].values\n",
    "data2021 = change_data2021['Gwangju_pay_grade'].values\n",
    "data2022 = change_data2022['Gwangju_pay_grade'].values\n",
    "data2023 = change_data2023['Gwangju_pay_grade'].values\n",
    "\n",
    "mdata2021_2020 = abs(mdata2021)-abs(mdata2020)\n",
    "mdata2022_2021 = abs(mdata2022)-abs(mdata2021)\n",
    "mdata2023_2022 = abs(mdata2023)-abs(mdata2022)\n",
    "\n",
    "adata2021_2020 = abs(adata2021)-abs(adata2020)\n",
    "adata2022_2021 = abs(adata2022)-abs(adata2021)\n",
    "adata2023_2022 = abs(adata2023)-abs(adata2022)\n",
    "\n",
    "data2021_2020 = abs(data2021)-abs(data2020)\n",
    "data2022_2021 = abs(data2022)-abs(data2021)\n",
    "data2023_2022 = abs(data2023)-abs(data2022)"
   ]
  },
  {
   "cell_type": "code",
   "execution_count": null,
   "metadata": {},
   "outputs": [],
   "source": [
    "pltdata(months, mdata2021_2020, mdata2022_2021, mdata2023_2022, \"광주\", \"총 거래 물량\")"
   ]
  },
  {
   "cell_type": "code",
   "execution_count": null,
   "metadata": {},
   "outputs": [],
   "source": [
    "pltdata(months, adata2021_2020, adata2022_2021, adata2023_2022, \"광주\", \"총 거래 금액\")"
   ]
  },
  {
   "cell_type": "code",
   "execution_count": null,
   "metadata": {},
   "outputs": [],
   "source": [
    "pltdata(months, data2021_2020, data2022_2021, data2023_2022, \"광주\", \"평균 거래 금액\")"
   ]
  },
  {
   "cell_type": "markdown",
   "metadata": {},
   "source": [
    "# 그래프 구간"
   ]
  },
  {
   "cell_type": "code",
   "execution_count": null,
   "metadata": {},
   "outputs": [],
   "source": [
    "plt.stackplot(months, data2020, data2021, data2022, data2023, colors=['b', 'r', 'y', 'black'], labels=['2020', '2021', '2022', '2023'])\n",
    "\n",
    "plt.xlabel('월')\n",
    "plt.ylabel('평균 거래 금액')\n",
    "plt.title('연도별 평균 거래금액 변화향')\n",
    "plt.legend(loc='upper left')\n",
    "plt.show()"
   ]
  }
 ],
 "metadata": {
  "kernelspec": {
   "display_name": "base",
   "language": "python",
   "name": "python3"
  },
  "language_info": {
   "codemirror_mode": {
    "name": "ipython",
    "version": 3
   },
   "file_extension": ".py",
   "mimetype": "text/x-python",
   "name": "python",
   "nbconvert_exporter": "python",
   "pygments_lexer": "ipython3",
   "version": "3.11.4"
  },
  "orig_nbformat": 4
 },
 "nbformat": 4,
 "nbformat_minor": 2
}
