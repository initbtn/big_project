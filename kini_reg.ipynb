{
 "cells": [
  {
   "cell_type": "code",
   "execution_count": 2,
   "metadata": {},
   "outputs": [],
   "source": [
    "import numpy as np\n",
    "import pandas as pd\n",
    "import matplotlib.pyplot as plt\n",
    "import seaborn as sns\n",
    "from matplotlib import rc,  font_manager\n",
    "import matplotlib\n",
    "fontname = \"C:/Windows/Fonts/malgun.ttf\"\n",
    "font_name = font_manager.FontProperties(fname=fontname).get_name()\n",
    "rc('font', family=font_name)"
   ]
  },
  {
   "cell_type": "code",
   "execution_count": 3,
   "metadata": {},
   "outputs": [],
   "source": [
    "get_data = pd.read_excel('data/ORG/경락가격/애호박/애호박 월별 총거래물량(원본).xlsx', index_col=None)"
   ]
  },
  {
   "cell_type": "code",
   "execution_count": 4,
   "metadata": {},
   "outputs": [],
   "source": [
    "get_data = get_data.sort_index(ascending=False)"
   ]
  },
  {
   "cell_type": "code",
   "execution_count": 5,
   "metadata": {},
   "outputs": [],
   "source": [
    "seoul_data = get_data[get_data['시장명'].str.contains('서울')]\n",
    "busan_data = get_data[get_data['시장명'].str.contains('부산')]\n",
    "daegu_data = get_data[get_data['시장명'].str.contains('대구')]\n",
    "daejeon_data = get_data[get_data['시장명'].str.contains('대전')]\n",
    "gwangju_data = get_data[get_data['시장명'].str.contains('광주')]"
   ]
  },
  {
   "cell_type": "code",
   "execution_count": 6,
   "metadata": {},
   "outputs": [
    {
     "name": "stdout",
     "output_type": "stream",
     "text": [
      "['2020-01' '2020-02' '2020-03' '2020-04' '2020-05' '2020-06' '2020-07'\n",
      " '2020-08' '2020-09' '2020-10' '2020-11' '2020-12' '2021-01' '2021-02'\n",
      " '2021-03' '2021-04' '2021-05' '2021-06' '2021-07' '2021-08' '2021-09'\n",
      " '2021-10' '2021-11' '2021-12' '2022-01' '2022-02' '2022-03' '2022-04'\n",
      " '2022-05' '2022-06' '2022-07' '2022-08' '2022-09' '2022-10' '2022-11'\n",
      " '2022-12' '2023-01' '2023-02' '2023-03' '2023-04' '2023-05' '2023-06'\n",
      " '2023-07' '2023-08']\n",
      "['2020-01' '2020-02' '2020-03' '2020-04' '2020-05' '2020-06' '2020-07'\n",
      " '2020-08' '2020-09' '2020-10' '2020-11' '2020-12' '2021-01' '2021-02'\n",
      " '2021-03' '2021-04' '2021-05' '2021-06' '2021-07' '2021-08' '2021-09'\n",
      " '2021-10' '2021-11' '2021-12' '2022-01' '2022-02' '2022-03' '2022-04'\n",
      " '2022-05' '2022-06' '2022-07' '2022-08' '2022-09' '2022-10' '2022-11'\n",
      " '2022-12' '2023-01' '2023-02' '2023-03' '2023-04' '2023-05' '2023-06'\n",
      " '2023-07' '2023-08']\n",
      "['2020-01' '2020-02' '2020-03' '2020-04' '2020-05' '2020-06' '2020-07'\n",
      " '2020-08' '2020-09' '2020-10' '2020-11' '2020-12' '2021-01' '2021-02'\n",
      " '2021-03' '2021-04' '2021-05' '2021-06' '2021-07' '2021-08' '2021-09'\n",
      " '2021-10' '2021-11' '2021-12' '2022-01' '2022-02' '2022-03' '2022-04'\n",
      " '2022-05' '2022-06' '2022-07' '2022-08' '2022-09' '2022-10' '2022-11'\n",
      " '2022-12' '2023-01' '2023-02' '2023-03' '2023-04' '2023-05' '2023-06'\n",
      " '2023-07' '2023-08']\n",
      "['2020-01' '2020-02' '2020-03' '2020-04' '2020-05' '2020-06' '2020-07'\n",
      " '2020-08' '2020-09' '2020-10' '2020-11' '2020-12' '2021-01' '2021-02'\n",
      " '2021-03' '2021-04' '2021-05' '2021-06' '2021-07' '2021-08' '2021-09'\n",
      " '2021-10' '2021-11' '2021-12' '2022-01' '2022-02' '2022-03' '2022-04'\n",
      " '2022-05' '2022-06' '2022-07' '2022-08' '2022-09' '2022-10' '2022-11'\n",
      " '2022-12' '2023-01' '2023-02' '2023-03' '2023-04' '2023-05' '2023-06'\n",
      " '2023-07' '2023-08']\n",
      "['2020-01' '2020-02' '2020-03' '2020-04' '2020-05' '2020-06' '2020-07'\n",
      " '2020-08' '2020-09' '2020-10' '2020-11' '2020-12' '2021-01' '2021-02'\n",
      " '2021-03' '2021-04' '2021-05' '2021-06' '2021-07' '2021-08' '2021-09'\n",
      " '2021-10' '2021-11' '2021-12' '2022-01' '2022-02' '2022-03' '2022-04'\n",
      " '2022-05' '2022-06' '2022-07' '2022-08' '2022-09' '2022-10' '2022-11'\n",
      " '2022-12' '2023-01' '2023-02' '2023-03' '2023-04' '2023-05' '2023-06'\n",
      " '2023-07' '2023-08']\n"
     ]
    }
   ],
   "source": [
    "seoul_date = seoul_data['DATE'].unique()\n",
    "print(seoul_date)\n",
    "busan_date = busan_data['DATE'].unique()\n",
    "print(busan_date)\n",
    "daegu_date = daegu_data['DATE'].unique()\n",
    "print(daegu_date)\n",
    "daejeon_date = daejeon_data['DATE'].unique()\n",
    "print(daejeon_date)\n",
    "gwangju_date = gwangju_data['DATE'].unique()\n",
    "print(gwangju_date)"
   ]
  },
  {
   "cell_type": "code",
   "execution_count": 7,
   "metadata": {},
   "outputs": [],
   "source": [
    "all_list = []\n",
    "for i in seoul_date:\n",
    "    seoul_sum1 = seoul_data.loc[seoul_data['DATE']==i, '총거래물량(kg)'].values\n",
    "    seoul_sum2 = seoul_data.loc[seoul_data['DATE']==i, '총거래금액(원)'].values\n",
    "    all_list.append([i, seoul_sum1.sum(), seoul_sum2.sum(), '서울'])\n",
    "\n",
    "for i in busan_date:\n",
    "    busan_sum1 = busan_data.loc[busan_data['DATE']==i, '총거래물량(kg)'].values\n",
    "    busan_sum2 = busan_data.loc[busan_data['DATE']==i, '총거래금액(원)'].values\n",
    "    all_list.append([i, busan_sum1.sum(), busan_sum2.sum(), '부산'])\n",
    "\n",
    "for i in daegu_date:\n",
    "    daegu_sum1 = daegu_data.loc[daegu_data['DATE']==i, '총거래물량(kg)'].values\n",
    "    daegu_sum2 = daegu_data.loc[daegu_data['DATE']==i, '총거래금액(원)'].values\n",
    "    all_list.append([i, daegu_sum1.sum(), daegu_sum2.sum(), '대구'])\n",
    "\n",
    "for i in daejeon_date:\n",
    "    daejeon_sum1 = daejeon_data.loc[daejeon_data['DATE']==i, '총거래물량(kg)'].values\n",
    "    daejeon_sum2 = daejeon_data.loc[daejeon_data['DATE']==i, '총거래금액(원)'].values\n",
    "    all_list.append([i, daejeon_sum1.sum(), daejeon_sum2.sum(), '대전'])\n",
    "\n",
    "for i in gwangju_date:\n",
    "    gwangju_sum1 = gwangju_data.loc[gwangju_data['DATE']==i, '총거래물량(kg)'].values\n",
    "    gwangju_sum2 = gwangju_data.loc[gwangju_data['DATE']==i, '총거래금액(원)'].values\n",
    "    all_list.append([i, gwangju_sum1.sum(), gwangju_sum2.sum(), '광주'])"
   ]
  },
  {
   "cell_type": "code",
   "execution_count": 8,
   "metadata": {},
   "outputs": [],
   "source": [
    "df = pd.DataFrame(all_list, columns=['Date', '총거래물량', '총거래금액', '시장'])"
   ]
  },
  {
   "cell_type": "code",
   "execution_count": 9,
   "metadata": {},
   "outputs": [],
   "source": [
    "df['평균거래금액'] = df['총거래금액']/df['총거래물량']"
   ]
  },
  {
   "cell_type": "code",
   "execution_count": 10,
   "metadata": {},
   "outputs": [],
   "source": [
    "df = df[['Date', '총거래물량', '총거래금액', '평균거래금액', '시장']]"
   ]
  },
  {
   "cell_type": "code",
   "execution_count": 11,
   "metadata": {},
   "outputs": [],
   "source": [
    "df.to_csv('data/TEMP/경락가격/애호박/애호박 월별 총거래(정제).csv', index=False, encoding='UTF-8')"
   ]
  },
  {
   "cell_type": "code",
   "execution_count": null,
   "metadata": {},
   "outputs": [],
   "source": [
    "list = [kini_data['서울 총거래물량'], kini_data['서울 총거래금액'], kini_data['서울kg당 평균가격']]\n",
    "column_names = ['서울 총거래물량', '서울 총거래금액', '서울kg당 평균가격']\n",
    "df1 = pd.DataFrame(list).T\n",
    "df1.columns = column_names\n",
    "corr=df1.corr()\n",
    "\n",
    "corr_heatmap = sns.heatmap( corr, \n",
    "                           cbar=True, \n",
    "                           annot=True, \n",
    "                           annot_kws={'size': 20}, \n",
    "                           fmt='.2f', \n",
    "                           square=True, \n",
    "                           cmap='Blues',\n",
    "                           vmin=0.1,\n",
    "                           vmax=1\n",
    "                           )"
   ]
  },
  {
   "cell_type": "code",
   "execution_count": null,
   "metadata": {},
   "outputs": [],
   "source": [
    "kini_data['regDate'] = pd.to_datetime(kini_data['regDate'])\n",
    "kini_year = kini_data['regDate'].dt.year\n",
    "kini_amount_grade = []\n",
    "for i in range(len(kini_data)):\n",
    "    if i != len(kini_data)-1:\n",
    "        A = str(kini_data['regDate'][i]) + \"-\" + str(kini_data['regDate'][i+1])\n",
    "        kini_amount_grade.append([ A ,kini_data['서울 총거래물량'][i]- kini_data['서울 총거래물량'][i+1], kini_data['서울 총거래금액'][i]- kini_data['서울 총거래금액'][i+1], kini_data['서울kg당 평균가격'][i]- kini_data['서울kg당 평균가격'][i+1], kini_year[i]])\n",
    "        \n",
    "\n",
    "kini_amount_grade"
   ]
  },
  {
   "cell_type": "code",
   "execution_count": null,
   "metadata": {},
   "outputs": [],
   "source": [
    "df = pd.DataFrame(kini_amount_grade, columns=['regDate', 'amount_grade', 'allpay_grade', 'pay_grade', 'year'])\n",
    "df.to_csv('data/MART/경락가격/애호박 서울 변화량(add year).csv', index=False, encoding='UTF-8')"
   ]
  },
  {
   "cell_type": "code",
   "execution_count": null,
   "metadata": {},
   "outputs": [],
   "source": [
    "years = df['year'].unique()\n",
    "\n",
    "plt.figure(figsize=(10, 6))\n",
    "for year in years:\n",
    "    year_data = df[df['year'] == year]\n",
    "    print(year_data)\n",
    "    if (year == 2023):\n",
    "        plt.plot(range(1, 9), year_data['amount_grade'], label=f'{year}년')\n",
    "    elif (year == 2020):\n",
    "        plt.plot(range(1, 12), year_data['amount_grade'], label=f'{year}년')\n",
    "    else:\n",
    "        plt.plot(range(1, 13), year_data['amount_grade'], label=f'{year}년')\n",
    "plt.xlabel('총 거래물량')\n",
    "plt.ylabel('총 거래금액')\n",
    "plt.title('월별 가격 물량 분석')\n",
    "plt.legend()\n",
    "plt.grid(True)\n",
    "plt.savefig('data/월별[년도] 거래물량.png')\n",
    "plt.show()\n",
    "\n"
   ]
  },
  {
   "cell_type": "code",
   "execution_count": null,
   "metadata": {},
   "outputs": [],
   "source": [
    "plt.title('평균 거래금액과 총 거래물량 산점도 그래프')\n",
    "plt.scatter(df['amount_grade'], df['pay_grade'])\n",
    "plt.savefig('data/평균 거래금액과 총 거래물량 산점도 그래프.png')"
   ]
  },
  {
   "cell_type": "code",
   "execution_count": null,
   "metadata": {},
   "outputs": [],
   "source": [
    "fig, ax1 = plt.subplots()\n",
    "plt.figure(dpi=128,  figsize=(10,6))\n",
    "ax1.plot(range(0, len(df)), df['amount_grade'], c= 'red', alpha=0.5, label='총 거래물량')\n",
    "ax1.set_ylabel('총 거래물량', color = 'red', rotation = 90)\n",
    "ax2 = ax1.twinx()\n",
    "ax2.plot(range(0, len(df)), df['allpay_grade'], c= 'green', alpha=0.5, label='총 거래금액')\n",
    "ax2.set_ylabel('총 거래금액', color = 'blue', rotation = 90)\n",
    "\n",
    "plt.savefig(\"data/총 거래물량 + 총 거래금액.png\")\n",
    "plt.show()\n"
   ]
  },
  {
   "cell_type": "code",
   "execution_count": null,
   "metadata": {},
   "outputs": [],
   "source": [
    "fig, ax1 = plt.subplots()\n",
    "plt.figure(dpi=128,  figsize=(10,6))\n",
    "ax1.plot(range(0, len(df)), df['amount_grade'], c= 'red', alpha=0.5, label='총 거래물량')\n",
    "ax1.set_ylabel('총 거래물량', color = 'red', rotation = 90)\n",
    "ax2 = ax1.twinx()\n",
    "ax2.plot(range(0, len(df)), df['pay_grade'], c= 'green', alpha=0.5, label='평균 거래금액')\n",
    "ax2.set_ylabel('평균 거래금액', color = 'blue', rotation = 90)\n",
    "\n",
    "plt.savefig(\"data/총 거래물량 + 평균 거래금액.png\")\n",
    "plt.show()\n"
   ]
  },
  {
   "cell_type": "code",
   "execution_count": null,
   "metadata": {},
   "outputs": [],
   "source": [
    "years = kini_data['regDate'].dt.year.unique()\n",
    "fig = plt.figure(dpi=128,  figsize=(12,12))\n",
    "\n",
    "\n",
    "plt.subplot(2, 2, 1)\n",
    "for year in years:\n",
    "    year_data = kini_data[kini_data['regDate'].dt.year == year]\n",
    "    print(year_data)\n",
    "    if (year == 2023):\n",
    "        plt.plot(range(1, 9), year_data['서울 총거래물량'], label=f'{year}년')\n",
    "    elif (year == 2020):\n",
    "        plt.plot(range(1, 12), year_data['서울 총거래물량'], label=f'{year}년')\n",
    "    else:\n",
    "        plt.plot(range(1, 13), year_data['서울 총거래물량'], label=f'{year}년')\n",
    "plt.title(\"총 거래물량 변화율\")\n",
    "plt.xlabel(\"월\")\n",
    "plt.xticks(range(1, 13), [f'{i}월' for i in range(1, 13)])\n",
    "plt.ylabel(\"총 거래물량 변화율\")\n",
    "plt.legend()\n",
    "plt.grid(True)\n",
    "\n",
    "plt.subplot(2, 2, 2)\n",
    "for year in years:\n",
    "    year_data = df[df['year'] == year]\n",
    "    print(year_data)\n",
    "    if (year == 2023):\n",
    "        plt.plot(range(1, 9), year_data['서울 총거래금액'], label=f'{year}년')\n",
    "    elif (year == 2020):\n",
    "        plt.plot(range(1, 12), year_data['서울 총거래금액'], label=f'{year}년')\n",
    "    else:\n",
    "        plt.plot(range(1, 13), year_data['서울 총거래금액'], label=f'{year}년')\n",
    "plt.title(\"총 거래금액 변화율\")\n",
    "plt.xlabel(\"월\")\n",
    "plt.xticks(range(1, 13), [f'{i}월' for i in range(1, 13)])\n",
    "plt.ylabel(\"총 거래금액 변화율\")\n",
    "plt.legend()\n",
    "plt.grid(True)\n",
    "\n",
    "plt.subplot(2, 2, 3)\n",
    "for year in years:\n",
    "    year_data = df[df['year'] == year]\n",
    "    print(year_data)\n",
    "    if (year == 2023):\n",
    "        plt.plot(range(1, 9), year_data['서울kg당 평균가격'], label=f'{year}년')\n",
    "    elif (year == 2020):\n",
    "        plt.plot(range(1, 12), year_data['서울kg당 평균가격'], label=f'{year}년')\n",
    "    else:\n",
    "        plt.plot(range(1, 13), year_data['서울kg당 평균가격'], label=f'{year}년')\n",
    "plt.title(\"평균 거래금액 변화율\")\n",
    "plt.xlabel(\"월\")\n",
    "plt.xticks(range(1, 13), [f'{i}월' for i in range(1, 13)])\n",
    "plt.ylabel(\"평균 거래금액 변화율\")\n",
    "plt.legend()\n",
    "plt.grid(True)\n",
    "plt.savefig(\"data/거래물량, 거래금액 그래프.png\")\n",
    "plt.show()\n"
   ]
  },
  {
   "cell_type": "code",
   "execution_count": null,
   "metadata": {},
   "outputs": [],
   "source": [
    "years = df['year'].unique()\n",
    "fig = plt.figure(dpi=128,  figsize=(12,12))\n",
    "\n",
    "\n",
    "plt.subplot(2, 2, 1)\n",
    "for year in years:\n",
    "    year_data = df[df['year'] == year]\n",
    "    print(year_data)\n",
    "    if (year == 2023):\n",
    "        plt.plot(range(1, 9), year_data['amount_grade'], label=f'{year}년')\n",
    "    elif (year == 2020):\n",
    "        plt.plot(range(1, 12), year_data['amount_grade'], label=f'{year}년')\n",
    "    else:\n",
    "        plt.plot(range(1, 13), year_data['amount_grade'], label=f'{year}년')\n",
    "plt.title(\"총 거래물량 변화율\")\n",
    "plt.xlabel(\"월\")\n",
    "plt.ylabel(\"총 거래물량 변화율\")\n",
    "plt.legend()\n",
    "plt.grid(True)\n",
    "\n",
    "plt.subplot(2, 2, 2)\n",
    "for year in years:\n",
    "    year_data = df[df['year'] == year]\n",
    "    print(year_data)\n",
    "    if (year == 2023):\n",
    "        plt.plot(range(1, 9), year_data['allpay_grade'], label=f'{year}년')\n",
    "    elif (year == 2020):\n",
    "        plt.plot(range(1, 12), year_data['allpay_grade'], label=f'{year}년')\n",
    "    else:\n",
    "        plt.plot(range(1, 13), year_data['allpay_grade'], label=f'{year}년')\n",
    "plt.title(\"총 거래금액 변화율\")\n",
    "plt.xlabel(\"월\")\n",
    "plt.ylabel(\"총 거래금액 변화율\")\n",
    "plt.legend()\n",
    "plt.grid(True)\n",
    "\n",
    "plt.subplot(2, 2, 3)\n",
    "for year in years:\n",
    "    year_data = df[df['year'] == year]\n",
    "    print(year_data)\n",
    "    if (year == 2023):\n",
    "        plt.plot(range(1, 9), year_data['pay_grade'], label=f'{year}년')\n",
    "    elif (year == 2020):\n",
    "        plt.plot(range(1, 12), year_data['pay_grade'], label=f'{year}년')\n",
    "    else:\n",
    "        plt.plot(range(1, 13), year_data['pay_grade'], label=f'{year}년')\n",
    "plt.title(\"평균 거래금액 변화율\")\n",
    "plt.xlabel(\"월\")\n",
    "plt.ylabel(\"평균 거래금액 변화율\")\n",
    "plt.legend()\n",
    "plt.grid(True)\n",
    "plt.savefig(\"data/거래물량, 거래금액 그래프 변화율.png\")\n",
    "plt.show()\n"
   ]
  },
  {
   "cell_type": "code",
   "execution_count": null,
   "metadata": {},
   "outputs": [],
   "source": [
    "years = df['year'].unique()\n",
    "\n",
    "plt.figure(figsize=(10, 6))\n",
    "for year in years:\n",
    "    year_data = df[df['year'] == year]\n",
    "    print(year_data)\n",
    "    if (year == 2023):\n",
    "        plt.plot(range(1, 9), year_data['amount_grade'], label=f'{year}년')\n",
    "    elif (year == 2020):\n",
    "        plt.plot(range(1, 12), year_data['amount_grade'], label=f'{year}년')\n",
    "    else:\n",
    "        plt.plot(range(1, 13), year_data['amount_grade'], label=f'{year}년')\n",
    "plt.xlabel('총 거래물량')\n",
    "plt.ylabel('총 거래금액')\n",
    "plt.title('월별 가격 물량 분석')\n",
    "plt.legend()\n",
    "plt.grid(True)\n",
    "plt.savefig('data/월별[년도] 거래물량.png')\n",
    "plt.show()\n",
    "\n"
   ]
  },
  {
   "cell_type": "code",
   "execution_count": null,
   "metadata": {},
   "outputs": [],
   "source": [
    "df['abs_amount_grade'] = abs(df['amount_grade'])\n",
    "df['abs_allpay_grade'] = abs(df['allpay_grade'])\n",
    "df['abs_pay_grade'] = abs(df['pay_grade'])"
   ]
  },
  {
   "cell_type": "code",
   "execution_count": null,
   "metadata": {},
   "outputs": [],
   "source": [
    "df"
   ]
  },
  {
   "cell_type": "code",
   "execution_count": null,
   "metadata": {},
   "outputs": [],
   "source": [
    "list = [ df['amount_grade'], df['allpay_grade'], df['pay_grade']]\n",
    "column_names = ['amount_grade', 'allpay_grade', 'pay_grade']\n",
    "df1 = pd.DataFrame(list).T\n",
    "df1.columns = column_names\n",
    "corr=df1.corr()\n",
    "\n",
    "corr_heatmap = sns.heatmap( corr, \n",
    "                           cbar=True, \n",
    "                           annot=True, \n",
    "                           annot_kws={'size': 20}, \n",
    "                           fmt='.2f', \n",
    "                           square=True, \n",
    "                           cmap='Blues',\n",
    "                           vmin=0.1,\n",
    "                           vmax=1\n",
    "                           )"
   ]
  },
  {
   "cell_type": "code",
   "execution_count": null,
   "metadata": {},
   "outputs": [],
   "source": [
    "list = [ df['amount_grade'], df['allpay_grade'], df['pay_grade'], df['abs_amount_grade'], df['abs_allpay_grade'], df['abs_pay_grade']]\n",
    "column_names = ['amount_grade', 'allpay_grade', 'pay_grade', 'abs_amount_grade', 'abs_allpay_grade', 'abs_pay_grade']\n",
    "df1 = pd.DataFrame(list).T\n",
    "df1.columns = column_names\n",
    "corr=df1.corr()\n",
    "\n",
    "corr_heatmap = sns.heatmap( corr, \n",
    "                           cbar=True, \n",
    "                           annot=True, \n",
    "                           annot_kws={'size': 20}, \n",
    "                           fmt='.2f', \n",
    "                           square=True, \n",
    "                           cmap='Blues',\n",
    "                           vmin=0.1,\n",
    "                           vmax=1\n",
    "                           )"
   ]
  },
  {
   "cell_type": "code",
   "execution_count": null,
   "metadata": {},
   "outputs": [],
   "source": [
    "df['amount_grade'].corr(df['allpay_grade'])"
   ]
  }
 ],
 "metadata": {
  "kernelspec": {
   "display_name": "base",
   "language": "python",
   "name": "python3"
  },
  "language_info": {
   "codemirror_mode": {
    "name": "ipython",
    "version": 3
   },
   "file_extension": ".py",
   "mimetype": "text/x-python",
   "name": "python",
   "nbconvert_exporter": "python",
   "pygments_lexer": "ipython3",
   "version": "3.10.9"
  },
  "orig_nbformat": 4
 },
 "nbformat": 4,
 "nbformat_minor": 2
}
