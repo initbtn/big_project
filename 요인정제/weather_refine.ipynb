{
 "cells": [
  {
   "cell_type": "code",
   "execution_count": 3,
   "metadata": {},
   "outputs": [],
   "source": [
    "import numpy as np\n",
    "import pandas as pd\n",
    "import matplotlib.pyplot as plt\n",
    "import seaborn as sns\n",
    "from matplotlib import rc,  font_manager\n",
    "import matplotlib\n",
    "fontname = \"C:/Windows/Fonts/malgun.ttf\"\n",
    "font_name = font_manager.FontProperties(fname=fontname).get_name()\n",
    "rc('font', family=font_name)"
   ]
  },
  {
   "cell_type": "code",
   "execution_count": 4,
   "metadata": {},
   "outputs": [],
   "source": [
    "get_weather = pd.read_excel('data/ORG/날씨/월별 기온.xlsx', index_col=None)"
   ]
  },
  {
   "cell_type": "code",
   "execution_count": 4,
   "metadata": {},
   "outputs": [],
   "source": [
    "get_weather['년월'] = get_weather['년월'].str.replace(\"\\t\\t\\t\", \"\")"
   ]
  },
  {
   "cell_type": "code",
   "execution_count": 7,
   "metadata": {},
   "outputs": [
    {
     "data": {
      "text/html": [
       "<div>\n",
       "<style scoped>\n",
       "    .dataframe tbody tr th:only-of-type {\n",
       "        vertical-align: middle;\n",
       "    }\n",
       "\n",
       "    .dataframe tbody tr th {\n",
       "        vertical-align: top;\n",
       "    }\n",
       "\n",
       "    .dataframe thead th {\n",
       "        text-align: right;\n",
       "    }\n",
       "</style>\n",
       "<table border=\"1\" class=\"dataframe\">\n",
       "  <thead>\n",
       "    <tr style=\"text-align: right;\">\n",
       "      <th></th>\n",
       "      <th>년월</th>\n",
       "      <th>지점</th>\n",
       "      <th>평균기온(℃)</th>\n",
       "      <th>평균최저기온(℃)</th>\n",
       "      <th>평균최고기온(℃)</th>\n",
       "      <th>지점.1</th>\n",
       "      <th>평균기온(℃).1</th>\n",
       "      <th>평균최저기온(℃).1</th>\n",
       "      <th>평균최고기온(℃).1</th>\n",
       "      <th>지점.2</th>\n",
       "      <th>...</th>\n",
       "      <th>평균최저기온(℃).2</th>\n",
       "      <th>평균최고기온(℃).2</th>\n",
       "      <th>지점.3</th>\n",
       "      <th>평균기온(℃).3</th>\n",
       "      <th>평균최저기온(℃).3</th>\n",
       "      <th>평균최고기온(℃).3</th>\n",
       "      <th>지점.4</th>\n",
       "      <th>평균기온(℃).4</th>\n",
       "      <th>평균최저기온(℃).4</th>\n",
       "      <th>평균최고기온(℃).4</th>\n",
       "    </tr>\n",
       "  </thead>\n",
       "  <tbody>\n",
       "    <tr>\n",
       "      <th>0</th>\n",
       "      <td>2020-01</td>\n",
       "      <td>서울</td>\n",
       "      <td>1.6</td>\n",
       "      <td>-1.7</td>\n",
       "      <td>5.9</td>\n",
       "      <td>부산</td>\n",
       "      <td>6.4</td>\n",
       "      <td>3.1</td>\n",
       "      <td>10.9</td>\n",
       "      <td>대구</td>\n",
       "      <td>...</td>\n",
       "      <td>0.1</td>\n",
       "      <td>8.4</td>\n",
       "      <td>대전</td>\n",
       "      <td>2.7</td>\n",
       "      <td>-1.2</td>\n",
       "      <td>7.8</td>\n",
       "      <td>광주</td>\n",
       "      <td>4.6</td>\n",
       "      <td>1.2</td>\n",
       "      <td>9.0</td>\n",
       "    </tr>\n",
       "  </tbody>\n",
       "</table>\n",
       "<p>1 rows × 21 columns</p>\n",
       "</div>"
      ],
      "text/plain": [
       "        년월  지점  평균기온(℃)  평균최저기온(℃)  평균최고기온(℃) 지점.1  평균기온(℃).1  평균최저기온(℃).1  \\\n",
       "0  2020-01  서울      1.6       -1.7        5.9   부산        6.4          3.1   \n",
       "\n",
       "   평균최고기온(℃).1 지점.2  ...  평균최저기온(℃).2  평균최고기온(℃).2  지점.3 평균기온(℃).3  \\\n",
       "0         10.9   대구  ...          0.1          8.4    대전       2.7   \n",
       "\n",
       "   평균최저기온(℃).3  평균최고기온(℃).3  지점.4 평균기온(℃).4  평균최저기온(℃).4  평균최고기온(℃).4  \n",
       "0         -1.2          7.8    광주       4.6          1.2          9.0  \n",
       "\n",
       "[1 rows x 21 columns]"
      ]
     },
     "execution_count": 7,
     "metadata": {},
     "output_type": "execute_result"
    }
   ],
   "source": [
    "get_weather[:1]"
   ]
  },
  {
   "cell_type": "code",
   "execution_count": 5,
   "metadata": {},
   "outputs": [
    {
     "data": {
      "text/plain": [
       "array([['\\t\\t\\t2020-01', 4.6, 1.2, 9.0],\n",
       "       ['\\t\\t\\t2020-02', 5.3, 0.8, 10.6],\n",
       "       ['\\t\\t\\t2020-03', 9.0, 3.8, 15.2],\n",
       "       ['\\t\\t\\t2020-04', 11.5, 6.2, 18.0],\n",
       "       ['\\t\\t\\t2020-05', 18.8, 14.2, 24.4],\n",
       "       ['\\t\\t\\t2020-06', 23.6, 19.6, 28.8],\n",
       "       ['\\t\\t\\t2020-07', 23.4, 20.8, 26.8],\n",
       "       ['\\t\\t\\t2020-08', 27.6, 24.8, 31.6],\n",
       "       ['\\t\\t\\t2020-09', 21.3, 17.9, 25.7],\n",
       "       ['\\t\\t\\t2020-10', 15.7, 11.2, 21.2],\n",
       "       ['\\t\\t\\t2020-11', 10.5, 6.4, 15.6],\n",
       "       ['\\t\\t\\t2020-12', 2.7, -1.1, 7.8],\n",
       "       ['\\t\\t\\t2021-01', 1.4, -2.6, 6.4],\n",
       "       ['\\t\\t\\t2021-02', 5.1, 0.4, 10.7],\n",
       "       ['\\t\\t\\t2021-03', 10.6, 5.6, 17.0],\n",
       "       ['\\t\\t\\t2021-04', 14.9, 9.7, 20.9],\n",
       "       ['\\t\\t\\t2021-05', 18.4, 13.4, 24.0],\n",
       "       ['\\t\\t\\t2021-06', 23.3, 19.2, 28.3],\n",
       "       ['\\t\\t\\t2021-07', 27.0, 23.6, 31.4],\n",
       "       ['\\t\\t\\t2021-08', 25.8, 22.5, 30.3],\n",
       "       ['\\t\\t\\t2021-09', 22.9, 19.5, 27.2],\n",
       "       ['\\t\\t\\t2021-10', 17.2, 12.8, 22.7],\n",
       "       ['\\t\\t\\t2021-11', 10.2, 5.8, 15.8],\n",
       "       ['\\t\\t\\t2021-12', 4.1, 0.0, 9.4],\n",
       "       ['\\t\\t\\t2022-01', 1.6, -2.3, 6.7],\n",
       "       ['\\t\\t\\t2022-02', 1.8, -2.4, 7.2],\n",
       "       ['\\t\\t\\t2022-03', 9.6, 4.5, 15.6],\n",
       "       ['\\t\\t\\t2022-04', 15.5, 9.8, 22.6],\n",
       "       ['\\t\\t\\t2022-05', 19.3, 13.8, 26.1],\n",
       "       ['\\t\\t\\t2022-06', 23.8, 20.1, 29.0],\n",
       "       ['\\t\\t\\t2022-07', 27.0, 23.8, 31.1],\n",
       "       ['\\t\\t\\t2022-08', 26.9, 24.1, 30.6],\n",
       "       ['\\t\\t\\t2022-09', 23.1, 19.1, 28.0],\n",
       "       ['\\t\\t\\t2022-10', 16.0, 11.4, 21.6],\n",
       "       ['\\t\\t\\t2022-11', 11.8, 6.8, 18.1],\n",
       "       ['\\t\\t\\t2022-12', 1.1, -2.6, 5.5],\n",
       "       ['\\t\\t\\t2023-01', 1.7, -2.5, 6.7],\n",
       "       ['\\t\\t\\t2023-02', 4.2, -0.5, 10.1],\n",
       "       ['\\t\\t\\t2023-03', 11.2, 5.1, 18.2],\n",
       "       ['\\t\\t\\t2023-04', 14.7, 9.4, 20.8],\n",
       "       ['\\t\\t\\t2023-05', 19.4, 14.9, 25.0],\n",
       "       ['\\t\\t\\t2023-06', 23.4, 19.5, 28.8],\n",
       "       ['\\t\\t\\t2023-07', 26.3, 23.4, 30.3]], dtype=object)"
      ]
     },
     "execution_count": 5,
     "metadata": {},
     "output_type": "execute_result"
    }
   ],
   "source": [
    "seoul_weather = get_weather.loc[get_weather['지점'] == '서울', ['년월', '평균기온(℃)', '평균최저기온(℃)', '평균최고기온(℃)']].values\n",
    "seoul_weather\n",
    "\n",
    "busan_weather = get_weather.loc[get_weather['지점.1'] == '부산', ['년월', '평균기온(℃).1', '평균최저기온(℃).1', '평균최고기온(℃).1']].values\n",
    "busan_weather\n",
    "\n",
    "daegu_weather = get_weather.loc[get_weather['지점.2'] == '대구', ['년월', '평균기온(℃).2', '평균최저기온(℃).2', '평균최고기온(℃).2']].values\n",
    "daegu_weather\n",
    "\n",
    "daejeon_weather = get_weather.loc[get_weather['지점.3'] == '대전', ['년월', '평균기온(℃).3', '평균최저기온(℃).3', '평균최고기온(℃).3']].values\n",
    "daejeon_weather\n",
    "\n",
    "gwangju_weather = get_weather.loc[get_weather['지점.4'] == '광주', ['년월', '평균기온(℃).4', '평균최저기온(℃).4', '평균최고기온(℃).4']].values\n",
    "gwangju_weather"
   ]
  },
  {
   "cell_type": "code",
   "execution_count": 6,
   "metadata": {},
   "outputs": [],
   "source": [
    "seoul_df = pd.DataFrame(seoul_weather, columns=['년월', '서울평균기온(℃)', '서울평균최저기온(℃)', '서울평균최고기온(℃)'])\n",
    "busan_df = pd.DataFrame(busan_weather, columns=['년월', '부산평균기온(℃)', '부산평균최저기온(℃)', '부산평균최고기온(℃)'])\n",
    "daegu_df = pd.DataFrame(daegu_weather, columns=['년월', '대구평균기온(℃)', '대구평균최저기온(℃)', '대구평균최고기온(℃)'])\n",
    "daejeon_df = pd.DataFrame(daejeon_weather, columns=['년월', '대전평균기온(℃)', '대전평균최저기온(℃)', '대전평균최고기온(℃)'])\n",
    "gwangju_df = pd.DataFrame(gwangju_weather, columns=['년월', '광주평균기온(℃)', '광주평균최저기온(℃)', '광주평균최고기온(℃)'])"
   ]
  },
  {
   "cell_type": "code",
   "execution_count": 7,
   "metadata": {},
   "outputs": [
    {
     "ename": "TypeError",
     "evalue": "merge() missing 1 required positional argument: 'right'",
     "output_type": "error",
     "traceback": [
      "\u001b[1;31m---------------------------------------------------------------------------\u001b[0m",
      "\u001b[1;31mTypeError\u001b[0m                                 Traceback (most recent call last)",
      "Cell \u001b[1;32mIn[7], line 1\u001b[0m\n\u001b[1;32m----> 1\u001b[0m all_weather \u001b[39m=\u001b[39m pd\u001b[39m.\u001b[39;49mmerge([seoul_df, busan_df, daegu_df, daejeon_df, gwangju_df], on\u001b[39m=\u001b[39;49m\u001b[39m'\u001b[39;49m\u001b[39m년월\u001b[39;49m\u001b[39m'\u001b[39;49m, how\u001b[39m=\u001b[39;49m\u001b[39m'\u001b[39;49m\u001b[39minner\u001b[39;49m\u001b[39m'\u001b[39;49m)\n",
      "\u001b[1;31mTypeError\u001b[0m: merge() missing 1 required positional argument: 'right'"
     ]
    }
   ],
   "source": [
    "all_weather = pd.merge(seoul_df, busan_df, daegu_df, daejeon_df, gwangju_df, on='년월', how='inner')\n",
    "# all_weather = pd.merge(seoul_df, busan_df, daegu_df, daejeon_df, gwangju_df], on='년월', how='inner')\n",
    "# all_weather = pd.merge(seoul_df, busan_df, daegu_df, daejeon_df, gwangju_df], on='년월', how='inner')\n",
    "# all_weather = pd.merge(seoul_df, busan_df, daegu_df, daejeon_df, gwangju_df], on='년월', how='inner')\n",
    "# all_weather = pd.merge(seoul_df, busan_df, daegu_df, daejeon_df, gwangju_df], on='년월', how='inner')"
   ]
  },
  {
   "cell_type": "code",
   "execution_count": 22,
   "metadata": {},
   "outputs": [],
   "source": [
    "all_weather.to_csv('data/TEMP/날씨/기온 데이터.csv', index=False, encoding='UTF-8')"
   ]
  }
 ],
 "metadata": {
  "kernelspec": {
   "display_name": "base",
   "language": "python",
   "name": "python3"
  },
  "language_info": {
   "codemirror_mode": {
    "name": "ipython",
    "version": 3
   },
   "file_extension": ".py",
   "mimetype": "text/x-python",
   "name": "python",
   "nbconvert_exporter": "python",
   "pygments_lexer": "ipython3",
   "version": "3.10.9"
  },
  "orig_nbformat": 4
 },
 "nbformat": 4,
 "nbformat_minor": 2
}
