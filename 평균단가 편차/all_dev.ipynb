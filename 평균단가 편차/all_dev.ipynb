{
 "cells": [
  {
   "cell_type": "code",
   "execution_count": 5,
   "metadata": {},
   "outputs": [],
   "source": [
    "import numpy as np\n",
    "import pandas as pd\n",
    "import matplotlib.pyplot as plt\n",
    "import seaborn as sns\n",
    "from matplotlib import rc,  font_manager\n",
    "import matplotlib\n",
    "import torch\n",
    "import torch.nn as nn\n",
    "import torch.nn.functional as F\n",
    "import torch.optim as optim\n",
    "import statistics\n",
    "matplotlib.rcParams['axes.unicode_minus'] = False\n",
    "fontname = \"C:/Windows/Fonts/malgun.ttf\"\n",
    "font_name = font_manager.FontProperties(fname=fontname).get_name()\n",
    "rc('font', family=font_name)"
   ]
  },
  {
   "cell_type": "code",
   "execution_count": 6,
   "metadata": {},
   "outputs": [],
   "source": [
    "kini_data = pd.read_csv('../data/TEMP/경락가격/애호박/애호박 컬럼 통합한 데이터와 표준편차.csv', index_col=None)\n",
    "cum_data = pd.read_csv('../data/TEMP/경락가격/오이/오이 컬럼 통합한 데이터와 표준편차.csv', index_col=None)\n",
    "oni_data = pd.read_csv('../data/TEMP/경락가격/양파/양파 컬럼 통합한 데이터와 표준편차.csv', index_col=None)\n",
    "wel_data = pd.read_csv('../data/TEMP/경락가격/대파/대파 컬럼 통합한 데이터와 표준편차.csv', index_col=None)"
   ]
  },
  {
   "cell_type": "code",
   "execution_count": 7,
   "metadata": {},
   "outputs": [],
   "source": [
    "kini_data['작물명'] = '애호박'\n",
    "cum_data['작물명'] = '오이'\n",
    "oni_data['작물명'] = '양파'\n",
    "wel_data['작물명'] = '대파'\n"
   ]
  },
  {
   "cell_type": "code",
   "execution_count": 8,
   "metadata": {},
   "outputs": [],
   "source": [
    "all_data = pd.concat([kini_data, cum_data, oni_data, wel_data])\n",
    "all_data.to_csv('../data/TEMP/경락가격/4가지 작물 통합 데이터 및 표준편차.csv', index=False, encoding='UTF-8')"
   ]
  }
 ],
 "metadata": {
  "kernelspec": {
   "display_name": "base",
   "language": "python",
   "name": "python3"
  },
  "language_info": {
   "codemirror_mode": {
    "name": "ipython",
    "version": 3
   },
   "file_extension": ".py",
   "mimetype": "text/x-python",
   "name": "python",
   "nbconvert_exporter": "python",
   "pygments_lexer": "ipython3",
   "version": "3.11.4"
  },
  "orig_nbformat": 4
 },
 "nbformat": 4,
 "nbformat_minor": 2
}
