{
 "cells": [
  {
   "cell_type": "code",
   "execution_count": null,
   "metadata": {},
   "outputs": [],
   "source": [
    "import numpy as np\n",
    "import pandas as pd\n",
    "import matplotlib.pyplot as plt\n",
    "import seaborn as sns\n",
    "from matplotlib import rc,  font_manager\n",
    "import matplotlib\n",
    "import torch\n",
    "import torch.nn as nn\n",
    "import torch.nn.functional as F\n",
    "import torch.optim as optim\n",
    "import statistics\n",
    "matplotlib.rcParams['axes.unicode_minus'] = False\n",
    "fontname = \"C:/Windows/Fonts/malgun.ttf\"\n",
    "font_name = font_manager.FontProperties(fname=fontname).get_name()\n",
    "rc('font', family=font_name)"
   ]
  },
  {
   "cell_type": "code",
   "execution_count": null,
   "metadata": {},
   "outputs": [],
   "source": [
    "get_data = pd.read_csv('../data/TEMP/경락가격/깻잎/깻잎 월별 총거래(정제).csv', index_col=None)\n",
    "# year_df = pd.read_csv('../data/TEMP/경락가격/오이/오이 년별 평균가격.csv', index_col=None)\n",
    "# get_data = pd.read_csv('../data/TEMP/경락가격/오이/오이 월별 총거래(정제2).csv', index_col=None)"
   ]
  },
  {
   "cell_type": "code",
   "execution_count": null,
   "metadata": {},
   "outputs": [],
   "source": [
    "get_data['Date'] = pd.to_datetime(get_data['Date'])"
   ]
  },
  {
   "cell_type": "code",
   "execution_count": null,
   "metadata": {},
   "outputs": [],
   "source": [
    "years = get_data['Date'].dt.year.unique()"
   ]
  },
  {
   "cell_type": "code",
   "execution_count": null,
   "metadata": {},
   "outputs": [],
   "source": [
    "\n",
    "year_mean = []\n",
    "year_addon = []\n",
    "for i in years:\n",
    "    for j in get_data.columns:\n",
    "        if '평균' in j:\n",
    "            print(get_data.loc[get_data['Date'].dt.year == i,'%s' %j][:5])\n",
    "            data_p = get_data.loc[get_data['Date'].dt.year == i,'%s' %j].values\n",
    "            year_addon.append(data_p.sum())\n",
    "            # np_std= np.std(get_data.loc[get_data['Date'].dt.year == i,'%s' %j].values)\n",
    "            # print('표준편차: ',np_std)\n",
    "            # year_addon.append(np_std)\n",
    "        elif j != 'Date':\n",
    "            data_p = get_data.loc[get_data['Date'].dt.year == i,'%s' %j].values\n",
    "            year_addon.append(data_p.sum())\n",
    "        else:\n",
    "            year_addon.append(i)\n",
    "    year_mean.append(year_addon)\n",
    "    year_addon = []\n",
    "\n",
    "year_mean"
   ]
  },
  {
   "cell_type": "code",
   "execution_count": null,
   "metadata": {},
   "outputs": [],
   "source": [
    "year_df = pd.DataFrame(year_mean, columns=['year', '서울 총거래물량', '서울 총거래금액', '서울 평균단가','부산 총거래물량', '부산 총거래금액', '부산 평균단가', '대구 총거래물량', '대구 총거래금액', '대구 평균단가', '대전 총거래물량', '대전 총거래금액', '대전 평균단가', '광주 총거래물량', '광주 총거래금액', '광주 평균단가'])"
   ]
  },
  {
   "cell_type": "code",
   "execution_count": null,
   "metadata": {},
   "outputs": [],
   "source": [
    "for i in years:\n",
    "    year_df.loc[year_df['year']== i,'서울 평균단가'] = year_df['서울 총거래금액']/year_df['서울 총거래물량']\n",
    "    year_df.loc[year_df['year']== i,'부산 평균단가'] = year_df['부산 총거래금액']/year_df['부산 총거래물량']\n",
    "    year_df.loc[year_df['year']== i,'대구 평균단가'] = year_df['대구 총거래금액']/year_df['대구 총거래물량']\n",
    "    year_df.loc[year_df['year']== i,'대전 평균단가'] = year_df['대전 총거래금액']/year_df['대전 총거래물량']\n",
    "    year_df.loc[year_df['year']== i,'광주 평균단가'] = year_df['광주 총거래금액']/year_df['광주 총거래물량']\n",
    "\n",
    "year_df"
   ]
  },
  {
   "cell_type": "code",
   "execution_count": null,
   "metadata": {},
   "outputs": [],
   "source": [
    "get_data = get_data.rename(columns={'서울 평균거래금액':'서울 평균단가', '부산 평균거래금액':'부산 평균단가', '대구 평균거래금액':'대구 평균단가', '대전 평균거래금액':'대전 평균단가', '광주 평균거래금액':'광주 평균단가'})"
   ]
  },
  {
   "cell_type": "code",
   "execution_count": null,
   "metadata": {},
   "outputs": [],
   "source": [
    "year_df['전국 평균단가'] = (year_df['서울 총거래금액'] + year_df['부산 총거래금액'] + year_df['대구 총거래금액'] + year_df['대전 총거래금액'] + year_df['광주 총거래금액']) / (year_df['서울 총거래물량'] + year_df['부산 총거래물량'] + year_df['대구 총거래물량'] + year_df['대전 총거래물량'] + year_df['광주 총거래물량']) "
   ]
  },
  {
   "cell_type": "code",
   "execution_count": null,
   "metadata": {},
   "outputs": [],
   "source": [
    "year_df.to_csv('../data/TEMP/경락가격/깻잎/깻잎 년별 평균가격.csv', index=False, encoding='UTF-8')"
   ]
  },
  {
   "cell_type": "code",
   "execution_count": null,
   "metadata": {},
   "outputs": [],
   "source": [
    "year_df"
   ]
  },
  {
   "cell_type": "code",
   "execution_count": null,
   "metadata": {},
   "outputs": [],
   "source": [
    "years = get_data['Date'].dt.year.unique()\n",
    "months = get_data['Date'].dt.month.unique()\n",
    "grade_data = []\n",
    "for i in years:\n",
    "    for j in months:\n",
    "        if ( i != 2023 ) or ( j not in [9, 10, 11, 12]):\n",
    "            g_date = str(i)+\"-\"+str(j)\n",
    "            seoul_data = year_df.loc[year_df['year']==i, '서울 평균단가'].values\n",
    "            seoul_data1 = get_data.loc[(get_data['Date'].dt.month == j) & (get_data['Date'].dt.year==i), '서울 평균단가'].values\n",
    "            seoul_grade = seoul_data - seoul_data1\n",
    "\n",
    "            busan_data = year_df.loc[year_df['year']==i, '부산 평균단가'].values\n",
    "            busan_data1 = get_data.loc[(get_data['Date'].dt.month == j) & (get_data['Date'].dt.year==i), '부산 평균단가'].values\n",
    "            busan_grade = busan_data - busan_data1\n",
    "\n",
    "            daegu_data = year_df.loc[year_df['year']==i, '대구 평균단가'].values\n",
    "            daegu_data1 = get_data.loc[(get_data['Date'].dt.month == j) & (get_data['Date'].dt.year==i), '대구 평균단가'].values\n",
    "            daegu_grade = daegu_data - daegu_data1\n",
    "\n",
    "            daejeon_data = year_df.loc[year_df['year']==i, '대전 평균단가'].values\n",
    "            daejeon_data1 = get_data.loc[(get_data['Date'].dt.month == j) & (get_data['Date'].dt.year==i), '광주 평균단가'].values\n",
    "            daejeon_grade = daejeon_data - daejeon_data1\n",
    "\n",
    "            gwangju_data = year_df.loc[year_df['year']==i, '광주 평균단가'].values\n",
    "            gwangju_data1 = get_data.loc[(get_data['Date'].dt.month == j) & (get_data['Date'].dt.year==i), '광주 평균단가'].values\n",
    "            gwangju_grade = gwangju_data - gwangju_data1\n",
    "            print(len(gwangju_grade))\n",
    "            grade_data.append([g_date,seoul_grade[0], busan_grade[0], daegu_grade[0], daejeon_grade[0], gwangju_grade[0]])\n",
    "print(grade_data)"
   ]
  },
  {
   "cell_type": "code",
   "execution_count": null,
   "metadata": {},
   "outputs": [],
   "source": [
    "mean_data = pd.DataFrame(grade_data, columns=['Date','서울 평균단가 편차', '부산 평균단가 편차', '대구 평균단가 편차', '대전 평균단가 편차', '광주 평균단가 편차'])"
   ]
  },
  {
   "cell_type": "code",
   "execution_count": null,
   "metadata": {},
   "outputs": [],
   "source": [
    "mean_data['Date'] = pd.to_datetime(mean_data['Date'])"
   ]
  },
  {
   "cell_type": "code",
   "execution_count": null,
   "metadata": {},
   "outputs": [],
   "source": [
    "mean_all = pd.merge(get_data, mean_data, on='Date', how='inner')"
   ]
  },
  {
   "cell_type": "code",
   "execution_count": null,
   "metadata": {},
   "outputs": [],
   "source": [
    "mean_all = mean_all[['Date', '서울 총거래물량', '서울 총거래금액', '서울 평균단가', '서울 평균단가 편차','부산 총거래물량', '부산 총거래금액', '부산 평균단가', '부산 평균단가 편차', '대구 총거래물량', '대구 총거래금액', '대구 평균단가', '대구 평균단가 편차','대전 총거래물량', '대전 총거래금액', '대전 평균단가', '대전 평균단가 편차', '광주 총거래물량', '광주 총거래금액', '광주 평균단가', '광주 평균단가 편차']]"
   ]
  },
  {
   "cell_type": "code",
   "execution_count": null,
   "metadata": {},
   "outputs": [],
   "source": [
    "mean_all['전국 평균단가'] = (mean_all['서울 총거래금액'] + mean_all['부산 총거래금액'] + mean_all['대구 총거래금액'] + mean_all['대전 총거래금액'] + mean_all['광주 총거래금액']) / (mean_all['서울 총거래물량'] + mean_all['부산 총거래물량'] + mean_all['대구 총거래물량'] + mean_all['대전 총거래물량'] + mean_all['광주 총거래물량']) "
   ]
  },
  {
   "cell_type": "code",
   "execution_count": null,
   "metadata": {},
   "outputs": [],
   "source": [
    "mean_all.to_csv('../data/TEMP/경락가격/깻잎/깻잎 월별 데이터와 평균편차.csv', index=False, encoding='UTF-8')"
   ]
  }
 ],
 "metadata": {
  "language_info": {
   "name": "python"
  },
  "orig_nbformat": 4
 },
 "nbformat": 4,
 "nbformat_minor": 2
}
