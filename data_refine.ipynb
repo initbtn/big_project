{
 "cells": [
  {
   "cell_type": "code",
   "execution_count": 2,
   "metadata": {},
   "outputs": [],
   "source": [
    "import numpy as np\n",
    "import pandas as pd\n",
    "import matplotlib.pyplot as plt\n",
    "import seaborn as sns\n",
    "from matplotlib import rc,  font_manager\n",
    "import matplotlib\n",
    "import torch\n",
    "import torch.nn as nn\n",
    "import torch.nn.functional as F\n",
    "import torch.optim as optim\n",
    "fontname = \"C:/Windows/Fonts/malgun.ttf\"\n",
    "font_name = font_manager.FontProperties(fname=fontname).get_name()\n",
    "rc('font', family=font_name)"
   ]
  },
  {
   "cell_type": "code",
   "execution_count": 3,
   "metadata": {},
   "outputs": [],
   "source": [
    "kini_data = pd.read_excel('data/ORG/경락가격/애호박/애호박 월별 총거래물량(원본).xlsx', index_col=None)"
   ]
  },
  {
   "cell_type": "code",
   "execution_count": 4,
   "metadata": {},
   "outputs": [
    {
     "data": {
      "text/plain": [
       "39739"
      ]
     },
     "execution_count": 4,
     "metadata": {},
     "output_type": "execute_result"
    }
   ],
   "source": [
    "len(kini_data)"
   ]
  },
  {
   "cell_type": "code",
   "execution_count": 5,
   "metadata": {},
   "outputs": [],
   "source": [
    "seoul_data = kini_data[kini_data['시장명'] == '서울']\n",
    "busan_data = kini_data[kini_data['시장명'] == '부산']\n",
    "daegu_data = kini_data[kini_data['시장명'] == '대구']\n",
    "daejeon_data = kini_data[kini_data['시장명'] == '대전']\n",
    "gwangju_data = kini_data[kini_data['시장명'] == '광주']"
   ]
  },
  {
   "cell_type": "code",
   "execution_count": 6,
   "metadata": {},
   "outputs": [],
   "source": [
    "seoul_data = seoul_data.sort_index(ascending=False)"
   ]
  },
  {
   "cell_type": "code",
   "execution_count": 7,
   "metadata": {},
   "outputs": [
    {
     "data": {
      "text/plain": [
       "array(['2020-01', '2020-02', '2020-03', '2020-04', '2020-05', '2020-06',\n",
       "       '2020-07', '2020-08', '2020-09', '2020-10', '2020-11', '2020-12',\n",
       "       '2021-01', '2021-02', '2021-03', '2021-04', '2021-05', '2021-06',\n",
       "       '2021-07', '2021-08', '2021-09', '2021-10', '2021-11', '2021-12',\n",
       "       '2022-01', '2022-02', '2022-03', '2022-04', '2022-05', '2022-06',\n",
       "       '2022-07', '2022-08', '2022-09', '2022-10', '2022-11', '2022-12',\n",
       "       '2023-01', '2023-02', '2023-03', '2023-04', '2023-05', '2023-06',\n",
       "       '2023-07', '2023-08'], dtype=object)"
      ]
     },
     "execution_count": 7,
     "metadata": {},
     "output_type": "execute_result"
    }
   ],
   "source": [
    "seoul_date = seoul_data['DATE'].unique()\n",
    "seoul_date"
   ]
  },
  {
   "cell_type": "code",
   "execution_count": 8,
   "metadata": {},
   "outputs": [
    {
     "name": "stdout",
     "output_type": "stream",
     "text": [
      "<class 'pandas.core.frame.DataFrame'>\n",
      "Int64Index: 10202 entries, 39738 to 29537\n",
      "Data columns (total 12 columns):\n",
      " #   Column     Non-Null Count  Dtype  \n",
      "---  ------     --------------  -----  \n",
      " 0   DATE       10202 non-null  object \n",
      " 1   거래단위       10202 non-null  object \n",
      " 2   평균가격(원)    10202 non-null  object \n",
      " 3   총거래물량(kg)  10202 non-null  float64\n",
      " 4   총거래금액(원)   10202 non-null  int64  \n",
      " 5   시장명        10202 non-null  object \n",
      " 6   법인명        10202 non-null  object \n",
      " 7   품목명        10202 non-null  object \n",
      " 8   품종명        10202 non-null  object \n",
      " 9   산지명        10202 non-null  object \n",
      " 10  산지시군명      10202 non-null  object \n",
      " 11  등급명        10202 non-null  object \n",
      "dtypes: float64(1), int64(1), object(10)\n",
      "memory usage: 1.0+ MB\n"
     ]
    }
   ],
   "source": [
    "seoul_data.info()"
   ]
  },
  {
   "cell_type": "code",
   "execution_count": 9,
   "metadata": {},
   "outputs": [],
   "source": [
    "seoul_list = []\n",
    "for i in seoul_date:\n",
    "    seoul_sum1 = seoul_data.loc[seoul_data['DATE']==i, '총거래물량(kg)'].values\n",
    "    seoul_sum2 = seoul_data.loc[seoul_data['DATE']==i, '총거래금액(원)'].values\n",
    "    seoul_list.append([i, seoul_sum1.sum(), seoul_sum2.sum()])"
   ]
  },
  {
   "cell_type": "code",
   "execution_count": 10,
   "metadata": {},
   "outputs": [],
   "source": [
    "seoul_df = pd.DataFrame(seoul_list, columns=['DATE', '총거래물량', '총거래금액'])"
   ]
  },
  {
   "cell_type": "code",
   "execution_count": 11,
   "metadata": {},
   "outputs": [
    {
     "data": {
      "text/html": [
       "<div>\n",
       "<style scoped>\n",
       "    .dataframe tbody tr th:only-of-type {\n",
       "        vertical-align: middle;\n",
       "    }\n",
       "\n",
       "    .dataframe tbody tr th {\n",
       "        vertical-align: top;\n",
       "    }\n",
       "\n",
       "    .dataframe thead th {\n",
       "        text-align: right;\n",
       "    }\n",
       "</style>\n",
       "<table border=\"1\" class=\"dataframe\">\n",
       "  <thead>\n",
       "    <tr style=\"text-align: right;\">\n",
       "      <th></th>\n",
       "      <th>DATE</th>\n",
       "      <th>총거래물량</th>\n",
       "      <th>총거래금액</th>\n",
       "    </tr>\n",
       "  </thead>\n",
       "  <tbody>\n",
       "    <tr>\n",
       "      <th>0</th>\n",
       "      <td>2020-01</td>\n",
       "      <td>2780377.65</td>\n",
       "      <td>9830108400</td>\n",
       "    </tr>\n",
       "    <tr>\n",
       "      <th>1</th>\n",
       "      <td>2020-02</td>\n",
       "      <td>2720669.88</td>\n",
       "      <td>9024401700</td>\n",
       "    </tr>\n",
       "    <tr>\n",
       "      <th>2</th>\n",
       "      <td>2020-03</td>\n",
       "      <td>3739541.28</td>\n",
       "      <td>9722242800</td>\n",
       "    </tr>\n",
       "    <tr>\n",
       "      <th>3</th>\n",
       "      <td>2020-04</td>\n",
       "      <td>5703989.95</td>\n",
       "      <td>7969557560</td>\n",
       "    </tr>\n",
       "    <tr>\n",
       "      <th>4</th>\n",
       "      <td>2020-05</td>\n",
       "      <td>5487463.43</td>\n",
       "      <td>7107073600</td>\n",
       "    </tr>\n",
       "    <tr>\n",
       "      <th>5</th>\n",
       "      <td>2020-06</td>\n",
       "      <td>5435012.79</td>\n",
       "      <td>6912510040</td>\n",
       "    </tr>\n",
       "    <tr>\n",
       "      <th>6</th>\n",
       "      <td>2020-07</td>\n",
       "      <td>4369081.64</td>\n",
       "      <td>6969965000</td>\n",
       "    </tr>\n",
       "    <tr>\n",
       "      <th>7</th>\n",
       "      <td>2020-08</td>\n",
       "      <td>3399364.19</td>\n",
       "      <td>10140301900</td>\n",
       "    </tr>\n",
       "    <tr>\n",
       "      <th>8</th>\n",
       "      <td>2020-09</td>\n",
       "      <td>4424172.16</td>\n",
       "      <td>13495784500</td>\n",
       "    </tr>\n",
       "    <tr>\n",
       "      <th>9</th>\n",
       "      <td>2020-10</td>\n",
       "      <td>5212849.56</td>\n",
       "      <td>6208943600</td>\n",
       "    </tr>\n",
       "    <tr>\n",
       "      <th>10</th>\n",
       "      <td>2020-11</td>\n",
       "      <td>4236717.58</td>\n",
       "      <td>6075622000</td>\n",
       "    </tr>\n",
       "    <tr>\n",
       "      <th>11</th>\n",
       "      <td>2020-12</td>\n",
       "      <td>3592812.19</td>\n",
       "      <td>8326873300</td>\n",
       "    </tr>\n",
       "    <tr>\n",
       "      <th>12</th>\n",
       "      <td>2021-01</td>\n",
       "      <td>2515752.28</td>\n",
       "      <td>9552292700</td>\n",
       "    </tr>\n",
       "    <tr>\n",
       "      <th>13</th>\n",
       "      <td>2021-02</td>\n",
       "      <td>2784898.80</td>\n",
       "      <td>9301821850</td>\n",
       "    </tr>\n",
       "    <tr>\n",
       "      <th>14</th>\n",
       "      <td>2021-03</td>\n",
       "      <td>3687099.34</td>\n",
       "      <td>9773525250</td>\n",
       "    </tr>\n",
       "    <tr>\n",
       "      <th>15</th>\n",
       "      <td>2021-04</td>\n",
       "      <td>5199504.12</td>\n",
       "      <td>8397347080</td>\n",
       "    </tr>\n",
       "    <tr>\n",
       "      <th>16</th>\n",
       "      <td>2021-05</td>\n",
       "      <td>4877778.40</td>\n",
       "      <td>8370913570</td>\n",
       "    </tr>\n",
       "    <tr>\n",
       "      <th>17</th>\n",
       "      <td>2021-06</td>\n",
       "      <td>4793488.40</td>\n",
       "      <td>7282610250</td>\n",
       "    </tr>\n",
       "    <tr>\n",
       "      <th>18</th>\n",
       "      <td>2021-07</td>\n",
       "      <td>4644589.35</td>\n",
       "      <td>4126580450</td>\n",
       "    </tr>\n",
       "    <tr>\n",
       "      <th>19</th>\n",
       "      <td>2021-08</td>\n",
       "      <td>3756797.22</td>\n",
       "      <td>6405382590</td>\n",
       "    </tr>\n",
       "    <tr>\n",
       "      <th>20</th>\n",
       "      <td>2021-09</td>\n",
       "      <td>4588209.55</td>\n",
       "      <td>9799784380</td>\n",
       "    </tr>\n",
       "    <tr>\n",
       "      <th>21</th>\n",
       "      <td>2021-10</td>\n",
       "      <td>3629822.45</td>\n",
       "      <td>8101611660</td>\n",
       "    </tr>\n",
       "    <tr>\n",
       "      <th>22</th>\n",
       "      <td>2021-11</td>\n",
       "      <td>3600907.58</td>\n",
       "      <td>8648078750</td>\n",
       "    </tr>\n",
       "    <tr>\n",
       "      <th>23</th>\n",
       "      <td>2021-12</td>\n",
       "      <td>2095295.27</td>\n",
       "      <td>6781030640</td>\n",
       "    </tr>\n",
       "    <tr>\n",
       "      <th>24</th>\n",
       "      <td>2022-01</td>\n",
       "      <td>2826074.21</td>\n",
       "      <td>11059930100</td>\n",
       "    </tr>\n",
       "    <tr>\n",
       "      <th>25</th>\n",
       "      <td>2022-02</td>\n",
       "      <td>2675632.47</td>\n",
       "      <td>7577148150</td>\n",
       "    </tr>\n",
       "    <tr>\n",
       "      <th>26</th>\n",
       "      <td>2022-03</td>\n",
       "      <td>3778510.27</td>\n",
       "      <td>10212341280</td>\n",
       "    </tr>\n",
       "    <tr>\n",
       "      <th>27</th>\n",
       "      <td>2022-04</td>\n",
       "      <td>5333956.87</td>\n",
       "      <td>8716659530</td>\n",
       "    </tr>\n",
       "    <tr>\n",
       "      <th>28</th>\n",
       "      <td>2022-05</td>\n",
       "      <td>5463470.80</td>\n",
       "      <td>7274140350</td>\n",
       "    </tr>\n",
       "    <tr>\n",
       "      <th>29</th>\n",
       "      <td>2022-06</td>\n",
       "      <td>4157530.70</td>\n",
       "      <td>7551977950</td>\n",
       "    </tr>\n",
       "    <tr>\n",
       "      <th>30</th>\n",
       "      <td>2022-07</td>\n",
       "      <td>3881636.81</td>\n",
       "      <td>8484135865</td>\n",
       "    </tr>\n",
       "    <tr>\n",
       "      <th>31</th>\n",
       "      <td>2022-08</td>\n",
       "      <td>3531789.62</td>\n",
       "      <td>11855329140</td>\n",
       "    </tr>\n",
       "    <tr>\n",
       "      <th>32</th>\n",
       "      <td>2022-09</td>\n",
       "      <td>4373461.66</td>\n",
       "      <td>12098845400</td>\n",
       "    </tr>\n",
       "    <tr>\n",
       "      <th>33</th>\n",
       "      <td>2022-10</td>\n",
       "      <td>4230645.50</td>\n",
       "      <td>8675414400</td>\n",
       "    </tr>\n",
       "    <tr>\n",
       "      <th>34</th>\n",
       "      <td>2022-11</td>\n",
       "      <td>4390622.58</td>\n",
       "      <td>6394509650</td>\n",
       "    </tr>\n",
       "    <tr>\n",
       "      <th>35</th>\n",
       "      <td>2022-12</td>\n",
       "      <td>3148367.93</td>\n",
       "      <td>8430369900</td>\n",
       "    </tr>\n",
       "    <tr>\n",
       "      <th>36</th>\n",
       "      <td>2023-01</td>\n",
       "      <td>2547523.26</td>\n",
       "      <td>9917351050</td>\n",
       "    </tr>\n",
       "    <tr>\n",
       "      <th>37</th>\n",
       "      <td>2023-02</td>\n",
       "      <td>2291128.46</td>\n",
       "      <td>9745524250</td>\n",
       "    </tr>\n",
       "    <tr>\n",
       "      <th>38</th>\n",
       "      <td>2023-03</td>\n",
       "      <td>3499417.85</td>\n",
       "      <td>11626881000</td>\n",
       "    </tr>\n",
       "    <tr>\n",
       "      <th>39</th>\n",
       "      <td>2023-04</td>\n",
       "      <td>4256007.57</td>\n",
       "      <td>9463875000</td>\n",
       "    </tr>\n",
       "    <tr>\n",
       "      <th>40</th>\n",
       "      <td>2023-05</td>\n",
       "      <td>5031917.64</td>\n",
       "      <td>10053772750</td>\n",
       "    </tr>\n",
       "    <tr>\n",
       "      <th>41</th>\n",
       "      <td>2023-06</td>\n",
       "      <td>5310808.58</td>\n",
       "      <td>8540299650</td>\n",
       "    </tr>\n",
       "    <tr>\n",
       "      <th>42</th>\n",
       "      <td>2023-07</td>\n",
       "      <td>4200366.52</td>\n",
       "      <td>7128554702</td>\n",
       "    </tr>\n",
       "    <tr>\n",
       "      <th>43</th>\n",
       "      <td>2023-08</td>\n",
       "      <td>1069406.41</td>\n",
       "      <td>1912633300</td>\n",
       "    </tr>\n",
       "  </tbody>\n",
       "</table>\n",
       "</div>"
      ],
      "text/plain": [
       "       DATE       총거래물량        총거래금액\n",
       "0   2020-01  2780377.65   9830108400\n",
       "1   2020-02  2720669.88   9024401700\n",
       "2   2020-03  3739541.28   9722242800\n",
       "3   2020-04  5703989.95   7969557560\n",
       "4   2020-05  5487463.43   7107073600\n",
       "5   2020-06  5435012.79   6912510040\n",
       "6   2020-07  4369081.64   6969965000\n",
       "7   2020-08  3399364.19  10140301900\n",
       "8   2020-09  4424172.16  13495784500\n",
       "9   2020-10  5212849.56   6208943600\n",
       "10  2020-11  4236717.58   6075622000\n",
       "11  2020-12  3592812.19   8326873300\n",
       "12  2021-01  2515752.28   9552292700\n",
       "13  2021-02  2784898.80   9301821850\n",
       "14  2021-03  3687099.34   9773525250\n",
       "15  2021-04  5199504.12   8397347080\n",
       "16  2021-05  4877778.40   8370913570\n",
       "17  2021-06  4793488.40   7282610250\n",
       "18  2021-07  4644589.35   4126580450\n",
       "19  2021-08  3756797.22   6405382590\n",
       "20  2021-09  4588209.55   9799784380\n",
       "21  2021-10  3629822.45   8101611660\n",
       "22  2021-11  3600907.58   8648078750\n",
       "23  2021-12  2095295.27   6781030640\n",
       "24  2022-01  2826074.21  11059930100\n",
       "25  2022-02  2675632.47   7577148150\n",
       "26  2022-03  3778510.27  10212341280\n",
       "27  2022-04  5333956.87   8716659530\n",
       "28  2022-05  5463470.80   7274140350\n",
       "29  2022-06  4157530.70   7551977950\n",
       "30  2022-07  3881636.81   8484135865\n",
       "31  2022-08  3531789.62  11855329140\n",
       "32  2022-09  4373461.66  12098845400\n",
       "33  2022-10  4230645.50   8675414400\n",
       "34  2022-11  4390622.58   6394509650\n",
       "35  2022-12  3148367.93   8430369900\n",
       "36  2023-01  2547523.26   9917351050\n",
       "37  2023-02  2291128.46   9745524250\n",
       "38  2023-03  3499417.85  11626881000\n",
       "39  2023-04  4256007.57   9463875000\n",
       "40  2023-05  5031917.64  10053772750\n",
       "41  2023-06  5310808.58   8540299650\n",
       "42  2023-07  4200366.52   7128554702\n",
       "43  2023-08  1069406.41   1912633300"
      ]
     },
     "execution_count": 11,
     "metadata": {},
     "output_type": "execute_result"
    }
   ],
   "source": [
    "seoul_df"
   ]
  },
  {
   "cell_type": "code",
   "execution_count": 12,
   "metadata": {},
   "outputs": [],
   "source": [
    "seoul_df.to_csv('data/다시 정제.csv', index=False, encoding='UTF-8')"
   ]
  },
  {
   "cell_type": "code",
   "execution_count": 13,
   "metadata": {},
   "outputs": [
    {
     "name": "stdout",
     "output_type": "stream",
     "text": [
      "3316.9778392959606\n"
     ]
    }
   ],
   "source": [
    "print(seoul_df['총거래금액'][1]/seoul_df['총거래물량'][1])"
   ]
  },
  {
   "cell_type": "code",
   "execution_count": 14,
   "metadata": {},
   "outputs": [],
   "source": [
    "seoul_df['평균거래금액'] = seoul_df['총거래금액']/seoul_df['총거래물량']"
   ]
  },
  {
   "cell_type": "code",
   "execution_count": 15,
   "metadata": {},
   "outputs": [],
   "source": [
    "# seoul_df.to_csv('data/일단 다시 정제.csv', index=False, encoding='UTF-8')"
   ]
  },
  {
   "cell_type": "code",
   "execution_count": 19,
   "metadata": {},
   "outputs": [
    {
     "data": {
      "image/png": "[encoded data removed]",
      "text/plain": [
       "<Figure size 640x480 with 2 Axes>"
      ]
     },
     "metadata": {},
     "output_type": "display_data"
    }
   ],
   "source": [
    "list = [seoul_df['총거래물량'], seoul_df['총거래금액'], seoul_df['평균거래금액']]\n",
    "column_names = ['서울 총거래물량', '서울 총거래금액', '서울kg당 평균가격']\n",
    "df1 = pd.DataFrame(list).T\n",
    "df1.columns = column_names\n",
    "corr=df1.corr()\n",
    "\n",
    "corr_heatmap = sns.heatmap( corr, \n",
    "                           cbar=True, \n",
    "                           annot=True, \n",
    "                           annot_kws={'size': 20}, \n",
    "                           fmt='.2f', \n",
    "                           square=True, \n",
    "                           cmap='Blues',\n",
    "                           vmin=0.1,\n",
    "                           vmax=1\n",
    ")\n",
    "\n",
    "plt.savefig('data/평균금액 거래물량 거래금액 상관관계.png')"
   ]
  },
  {
   "cell_type": "code",
   "execution_count": 17,
   "metadata": {},
   "outputs": [
    {
     "data": {
      "image/png": "[encoded data removed]",
      "text/plain": [
       "<Figure size 640x480 with 1 Axes>"
      ]
     },
     "metadata": {},
     "output_type": "display_data"
    }
   ],
   "source": [
    "plt.scatter(seoul_df['평균거래금액'], seoul_df['총거래금액'])\n",
    "plt.title('평균 거래금액과 총 거래물량 산점도 그래프')\n",
    "plt.savefig('data/평균 거래금액과 총거래금액 산점도 그래프.png')\n",
    "plt.show()"
   ]
  },
  {
   "cell_type": "code",
   "execution_count": 18,
   "metadata": {},
   "outputs": [
    {
     "data": {
      "image/png": "[encoded data removed]",
      "text/plain": [
       "<Figure size 640x480 with 1 Axes>"
      ]
     },
     "metadata": {},
     "output_type": "display_data"
    }
   ],
   "source": [
    "plt.scatter(seoul_df['평균거래금액'], seoul_df['총거래물량'])\n",
    "plt.title('평균 거래금액과 총 거래물량 산점도 그래프')\n",
    "plt.savefig('data/평균 거래금액과 총 거래물량 산점도 그래프.png')\n",
    "plt.show()"
   ]
  }
 ],
 "metadata": {
  "kernelspec": {
   "display_name": "base",
   "language": "python",
   "name": "python3"
  },
  "language_info": {
   "codemirror_mode": {
    "name": "ipython",
    "version": 3
   },
   "file_extension": ".py",
   "mimetype": "text/x-python",
   "name": "python",
   "nbconvert_exporter": "python",
   "pygments_lexer": "ipython3",
   "version": "3.10.9"
  },
  "orig_nbformat": 4
 },
 "nbformat": 4,
 "nbformat_minor": 2
}
